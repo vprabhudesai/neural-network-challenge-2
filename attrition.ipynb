{
 "cells": [
  {
   "cell_type": "markdown",
   "metadata": {
    "id": "alIIEHibGc3M"
   },
   "source": [
    "## Part 1: Preprocessing"
   ]
  },
  {
   "cell_type": "code",
   "execution_count": 23,
   "metadata": {
    "colab": {
     "base_uri": "https://localhost:8080/",
     "height": 325
    },
    "executionInfo": {
     "elapsed": 12323,
     "status": "ok",
     "timestamp": 1730699226906,
     "user": {
      "displayName": "Alexander Booth",
      "userId": "02269714993535573104"
     },
     "user_tz": 360
    },
    "id": "6eDUJ4NtGc3P",
    "outputId": "eeae54b5-3d17-442d-94ba-00dd55b89964"
   },
   "outputs": [
    {
     "data": {
      "text/html": [
       "<div>\n",
       "<style scoped>\n",
       "    .dataframe tbody tr th:only-of-type {\n",
       "        vertical-align: middle;\n",
       "    }\n",
       "\n",
       "    .dataframe tbody tr th {\n",
       "        vertical-align: top;\n",
       "    }\n",
       "\n",
       "    .dataframe thead th {\n",
       "        text-align: right;\n",
       "    }\n",
       "</style>\n",
       "<table border=\"1\" class=\"dataframe\">\n",
       "  <thead>\n",
       "    <tr style=\"text-align: right;\">\n",
       "      <th></th>\n",
       "      <th>Age</th>\n",
       "      <th>Attrition</th>\n",
       "      <th>BusinessTravel</th>\n",
       "      <th>Department</th>\n",
       "      <th>DistanceFromHome</th>\n",
       "      <th>Education</th>\n",
       "      <th>EducationField</th>\n",
       "      <th>EnvironmentSatisfaction</th>\n",
       "      <th>HourlyRate</th>\n",
       "      <th>JobInvolvement</th>\n",
       "      <th>...</th>\n",
       "      <th>PerformanceRating</th>\n",
       "      <th>RelationshipSatisfaction</th>\n",
       "      <th>StockOptionLevel</th>\n",
       "      <th>TotalWorkingYears</th>\n",
       "      <th>TrainingTimesLastYear</th>\n",
       "      <th>WorkLifeBalance</th>\n",
       "      <th>YearsAtCompany</th>\n",
       "      <th>YearsInCurrentRole</th>\n",
       "      <th>YearsSinceLastPromotion</th>\n",
       "      <th>YearsWithCurrManager</th>\n",
       "    </tr>\n",
       "  </thead>\n",
       "  <tbody>\n",
       "    <tr>\n",
       "      <th>0</th>\n",
       "      <td>41</td>\n",
       "      <td>Yes</td>\n",
       "      <td>Travel_Rarely</td>\n",
       "      <td>Sales</td>\n",
       "      <td>1</td>\n",
       "      <td>2</td>\n",
       "      <td>Life Sciences</td>\n",
       "      <td>2</td>\n",
       "      <td>94</td>\n",
       "      <td>3</td>\n",
       "      <td>...</td>\n",
       "      <td>3</td>\n",
       "      <td>1</td>\n",
       "      <td>0</td>\n",
       "      <td>8</td>\n",
       "      <td>0</td>\n",
       "      <td>1</td>\n",
       "      <td>6</td>\n",
       "      <td>4</td>\n",
       "      <td>0</td>\n",
       "      <td>5</td>\n",
       "    </tr>\n",
       "    <tr>\n",
       "      <th>1</th>\n",
       "      <td>49</td>\n",
       "      <td>No</td>\n",
       "      <td>Travel_Frequently</td>\n",
       "      <td>Research &amp; Development</td>\n",
       "      <td>8</td>\n",
       "      <td>1</td>\n",
       "      <td>Life Sciences</td>\n",
       "      <td>3</td>\n",
       "      <td>61</td>\n",
       "      <td>2</td>\n",
       "      <td>...</td>\n",
       "      <td>4</td>\n",
       "      <td>4</td>\n",
       "      <td>1</td>\n",
       "      <td>10</td>\n",
       "      <td>3</td>\n",
       "      <td>3</td>\n",
       "      <td>10</td>\n",
       "      <td>7</td>\n",
       "      <td>1</td>\n",
       "      <td>7</td>\n",
       "    </tr>\n",
       "    <tr>\n",
       "      <th>2</th>\n",
       "      <td>37</td>\n",
       "      <td>Yes</td>\n",
       "      <td>Travel_Rarely</td>\n",
       "      <td>Research &amp; Development</td>\n",
       "      <td>2</td>\n",
       "      <td>2</td>\n",
       "      <td>Other</td>\n",
       "      <td>4</td>\n",
       "      <td>92</td>\n",
       "      <td>2</td>\n",
       "      <td>...</td>\n",
       "      <td>3</td>\n",
       "      <td>2</td>\n",
       "      <td>0</td>\n",
       "      <td>7</td>\n",
       "      <td>3</td>\n",
       "      <td>3</td>\n",
       "      <td>0</td>\n",
       "      <td>0</td>\n",
       "      <td>0</td>\n",
       "      <td>0</td>\n",
       "    </tr>\n",
       "    <tr>\n",
       "      <th>3</th>\n",
       "      <td>33</td>\n",
       "      <td>No</td>\n",
       "      <td>Travel_Frequently</td>\n",
       "      <td>Research &amp; Development</td>\n",
       "      <td>3</td>\n",
       "      <td>4</td>\n",
       "      <td>Life Sciences</td>\n",
       "      <td>4</td>\n",
       "      <td>56</td>\n",
       "      <td>3</td>\n",
       "      <td>...</td>\n",
       "      <td>3</td>\n",
       "      <td>3</td>\n",
       "      <td>0</td>\n",
       "      <td>8</td>\n",
       "      <td>3</td>\n",
       "      <td>3</td>\n",
       "      <td>8</td>\n",
       "      <td>7</td>\n",
       "      <td>3</td>\n",
       "      <td>0</td>\n",
       "    </tr>\n",
       "    <tr>\n",
       "      <th>4</th>\n",
       "      <td>27</td>\n",
       "      <td>No</td>\n",
       "      <td>Travel_Rarely</td>\n",
       "      <td>Research &amp; Development</td>\n",
       "      <td>2</td>\n",
       "      <td>1</td>\n",
       "      <td>Medical</td>\n",
       "      <td>1</td>\n",
       "      <td>40</td>\n",
       "      <td>3</td>\n",
       "      <td>...</td>\n",
       "      <td>3</td>\n",
       "      <td>4</td>\n",
       "      <td>1</td>\n",
       "      <td>6</td>\n",
       "      <td>3</td>\n",
       "      <td>3</td>\n",
       "      <td>2</td>\n",
       "      <td>2</td>\n",
       "      <td>2</td>\n",
       "      <td>2</td>\n",
       "    </tr>\n",
       "  </tbody>\n",
       "</table>\n",
       "<p>5 rows × 27 columns</p>\n",
       "</div>"
      ],
      "text/plain": [
       "   Age Attrition     BusinessTravel              Department  DistanceFromHome  \\\n",
       "0   41       Yes      Travel_Rarely                   Sales                 1   \n",
       "1   49        No  Travel_Frequently  Research & Development                 8   \n",
       "2   37       Yes      Travel_Rarely  Research & Development                 2   \n",
       "3   33        No  Travel_Frequently  Research & Development                 3   \n",
       "4   27        No      Travel_Rarely  Research & Development                 2   \n",
       "\n",
       "   Education EducationField  EnvironmentSatisfaction  HourlyRate  \\\n",
       "0          2  Life Sciences                        2          94   \n",
       "1          1  Life Sciences                        3          61   \n",
       "2          2          Other                        4          92   \n",
       "3          4  Life Sciences                        4          56   \n",
       "4          1        Medical                        1          40   \n",
       "\n",
       "   JobInvolvement  ...  PerformanceRating RelationshipSatisfaction  \\\n",
       "0               3  ...                  3                        1   \n",
       "1               2  ...                  4                        4   \n",
       "2               2  ...                  3                        2   \n",
       "3               3  ...                  3                        3   \n",
       "4               3  ...                  3                        4   \n",
       "\n",
       "   StockOptionLevel TotalWorkingYears  TrainingTimesLastYear WorkLifeBalance  \\\n",
       "0                 0                 8                      0               1   \n",
       "1                 1                10                      3               3   \n",
       "2                 0                 7                      3               3   \n",
       "3                 0                 8                      3               3   \n",
       "4                 1                 6                      3               3   \n",
       "\n",
       "   YearsAtCompany  YearsInCurrentRole  YearsSinceLastPromotion  \\\n",
       "0               6                   4                        0   \n",
       "1              10                   7                        1   \n",
       "2               0                   0                        0   \n",
       "3               8                   7                        3   \n",
       "4               2                   2                        2   \n",
       "\n",
       "   YearsWithCurrManager  \n",
       "0                     5  \n",
       "1                     7  \n",
       "2                     0  \n",
       "3                     0  \n",
       "4                     2  \n",
       "\n",
       "[5 rows x 27 columns]"
      ]
     },
     "execution_count": 23,
     "metadata": {},
     "output_type": "execute_result"
    }
   ],
   "source": [
    "# Import our dependencies\n",
    "from sklearn.model_selection import train_test_split\n",
    "from sklearn.preprocessing import StandardScaler\n",
    "import pandas as pd\n",
    "import numpy as np\n",
    "from tensorflow.keras.models import Model\n",
    "from tensorflow.keras.layers import Input, Dense\n",
    "\n",
    "#  Import and read the attrition data\n",
    "attrition_df = pd.read_csv('https://static.bc-edx.com/ai/ail-v-1-0/m19/lms/datasets/attrition.csv')\n",
    "attrition_df.head()"
   ]
  },
  {
   "cell_type": "code",
   "execution_count": 24,
   "metadata": {
    "colab": {
     "base_uri": "https://localhost:8080/",
     "height": 930
    },
    "executionInfo": {
     "elapsed": 10,
     "status": "ok",
     "timestamp": 1730699226906,
     "user": {
      "displayName": "Alexander Booth",
      "userId": "02269714993535573104"
     },
     "user_tz": 360
    },
    "id": "g22aQSY4Gc3Q",
    "outputId": "e8b68509-45d8-42e0-a9db-1bdce48e4b2d"
   },
   "outputs": [
    {
     "data": {
      "text/plain": [
       "Age                         43\n",
       "Attrition                    2\n",
       "BusinessTravel               3\n",
       "Department                   3\n",
       "DistanceFromHome            29\n",
       "Education                    5\n",
       "EducationField               6\n",
       "EnvironmentSatisfaction      4\n",
       "HourlyRate                  71\n",
       "JobInvolvement               4\n",
       "JobLevel                     5\n",
       "JobRole                      9\n",
       "JobSatisfaction              4\n",
       "MaritalStatus                3\n",
       "NumCompaniesWorked          10\n",
       "OverTime                     2\n",
       "PercentSalaryHike           15\n",
       "PerformanceRating            2\n",
       "RelationshipSatisfaction     4\n",
       "StockOptionLevel             4\n",
       "TotalWorkingYears           40\n",
       "TrainingTimesLastYear        7\n",
       "WorkLifeBalance              4\n",
       "YearsAtCompany              37\n",
       "YearsInCurrentRole          19\n",
       "YearsSinceLastPromotion     16\n",
       "YearsWithCurrManager        18\n",
       "dtype: int64"
      ]
     },
     "execution_count": 24,
     "metadata": {},
     "output_type": "execute_result"
    }
   ],
   "source": [
    "# Determine the number of unique values in each column\n",
    "attrition_df.nunique()"
   ]
  },
  {
   "cell_type": "code",
   "execution_count": 25,
   "metadata": {
    "executionInfo": {
     "elapsed": 7,
     "status": "ok",
     "timestamp": 1730699226906,
     "user": {
      "displayName": "Alexander Booth",
      "userId": "02269714993535573104"
     },
     "user_tz": 360
    },
    "id": "50vMgBEnJbfM"
   },
   "outputs": [],
   "source": [
    "# Create y_df with the Attrition and Department columns\n",
    "y_df = attrition_df[['Attrition', 'Department']]"
   ]
  },
  {
   "cell_type": "code",
   "execution_count": 26,
   "metadata": {
    "colab": {
     "base_uri": "https://localhost:8080/",
     "height": 397
    },
    "executionInfo": {
     "elapsed": 125,
     "status": "ok",
     "timestamp": 1730699227025,
     "user": {
      "displayName": "Alexander Booth",
      "userId": "02269714993535573104"
     },
     "user_tz": 360
    },
    "id": "Virka0zLGc3R",
    "outputId": "24f181c9-7e2e-42cb-94e8-a75842f1ab01"
   },
   "outputs": [
    {
     "data": {
      "text/plain": [
       "Age                        int64\n",
       "DistanceFromHome           int64\n",
       "Education                  int64\n",
       "JobLevel                   int64\n",
       "EnvironmentSatisfaction    int64\n",
       "NumCompaniesWorked         int64\n",
       "PercentSalaryHike          int64\n",
       "StockOptionLevel           int64\n",
       "TotalWorkingYears          int64\n",
       "YearsAtCompany             int64\n",
       "dtype: object"
      ]
     },
     "execution_count": 26,
     "metadata": {},
     "output_type": "execute_result"
    }
   ],
   "source": [
    "# Create a list of at least 10 column names to use as X data\n",
    "X_columns = ['Age', 'DistanceFromHome', 'Education', 'JobLevel', 'EnvironmentSatisfaction', \n",
    "             'NumCompaniesWorked', 'PercentSalaryHike', 'StockOptionLevel', \n",
    "             'TotalWorkingYears', 'YearsAtCompany']\n",
    "\n",
    "# Create X_df using your selected columns\n",
    "X_df = attrition_df[X_columns]\n",
    "\n",
    "# Show the data types for X_df\n",
    "X_df.dtypes"
   ]
  },
  {
   "cell_type": "code",
   "execution_count": 27,
   "metadata": {
    "executionInfo": {
     "elapsed": 9,
     "status": "ok",
     "timestamp": 1730699227025,
     "user": {
      "displayName": "Alexander Booth",
      "userId": "02269714993535573104"
     },
     "user_tz": 360
    },
    "id": "KaJfdOGUMHMR"
   },
   "outputs": [],
   "source": [
    "# Split the data into training and testing sets\n",
    "from sklearn.model_selection import train_test_split\n",
    "X_train, X_test, y_train, y_test = train_test_split(X_df, y_df, random_state=1)"
   ]
  },
  {
   "cell_type": "code",
   "execution_count": null,
   "metadata": {
    "colab": {
     "base_uri": "https://localhost:8080/",
     "height": 178
    },
    "executionInfo": {
     "elapsed": 8,
     "status": "ok",
     "timestamp": 1730699227025,
     "user": {
      "displayName": "Alexander Booth",
      "userId": "02269714993535573104"
     },
     "user_tz": 360
    },
    "id": "NYubUJqiLCSp",
    "outputId": "6116187c-4afa-4d4a-aeb9-fdc2131d0d58"
   },
   "outputs": [
    {
     "data": {
      "text/html": [
       "<div>\n",
       "<style scoped>\n",
       "    .dataframe tbody tr th:only-of-type {\n",
       "        vertical-align: middle;\n",
       "    }\n",
       "\n",
       "    .dataframe tbody tr th {\n",
       "        vertical-align: top;\n",
       "    }\n",
       "\n",
       "    .dataframe thead th {\n",
       "        text-align: right;\n",
       "    }\n",
       "</style>\n",
       "<table border=\"1\" class=\"dataframe\">\n",
       "  <thead>\n",
       "    <tr style=\"text-align: right;\">\n",
       "      <th></th>\n",
       "      <th>count</th>\n",
       "    </tr>\n",
       "    <tr>\n",
       "      <th>OverTime</th>\n",
       "      <th></th>\n",
       "    </tr>\n",
       "  </thead>\n",
       "  <tbody>\n",
       "    <tr>\n",
       "      <th>No</th>\n",
       "      <td>797</td>\n",
       "    </tr>\n",
       "    <tr>\n",
       "      <th>Yes</th>\n",
       "      <td>305</td>\n",
       "    </tr>\n",
       "  </tbody>\n",
       "</table>\n",
       "</div><br><label><b>dtype:</b> int64</label>"
      ],
      "text/plain": [
       "OverTime\n",
       "No     797\n",
       "Yes    305\n",
       "Name: count, dtype: int64"
      ]
     },
     "execution_count": 6,
     "metadata": {},
     "output_type": "execute_result"
    }
   ],
   "source": [
    "# Convert your X data to numeric data types however you see fit\n",
    "# Add new code cells as necessary\n"
   ]
  },
  {
   "cell_type": "code",
   "execution_count": 28,
   "metadata": {
    "executionInfo": {
     "elapsed": 6,
     "status": "ok",
     "timestamp": 1730699227162,
     "user": {
      "displayName": "Alexander Booth",
      "userId": "02269714993535573104"
     },
     "user_tz": 360
    },
    "id": "EWA-aIA5Gc3T"
   },
   "outputs": [],
   "source": [
    "# Create a StandardScaler\n",
    "scaler = StandardScaler()\n",
    "\n",
    "# Fit the StandardScaler to the training data\n",
    "X_train_scaled = scaler.fit_transform(X_train)\n",
    "\n",
    "# Scale the training and testing data\n",
    "X_test_scaled = scaler.transform(X_test)"
   ]
  },
  {
   "cell_type": "code",
   "execution_count": 29,
   "metadata": {
    "colab": {
     "base_uri": "https://localhost:8080/"
    },
    "executionInfo": {
     "elapsed": 99,
     "status": "ok",
     "timestamp": 1730699227256,
     "user": {
      "displayName": "Alexander Booth",
      "userId": "02269714993535573104"
     },
     "user_tz": 360
    },
    "id": "-z0Mky8vQSz4",
    "outputId": "5024d63f-7e4e-4a91-fb76-0b2c79c1bcfb"
   },
   "outputs": [],
   "source": [
    "from sklearn.preprocessing import OneHotEncoder\n",
    "\n",
    "# Create a OneHotEncoder for the Department column\n",
    "encoder_department = OneHotEncoder(sparse_output=False)\n",
    "\n",
    "\n",
    "# Fit the encoder to the training data\n",
    "y_department = encoder_department.fit_transform(y_df[['Department']])\n",
    "\n",
    "# Create two new variables by applying the encoder\n",
    "# to the training and testing data\n"
   ]
  },
  {
   "cell_type": "code",
   "execution_count": 30,
   "metadata": {
    "colab": {
     "base_uri": "https://localhost:8080/"
    },
    "executionInfo": {
     "elapsed": 5,
     "status": "ok",
     "timestamp": 1730699227257,
     "user": {
      "displayName": "Alexander Booth",
      "userId": "02269714993535573104"
     },
     "user_tz": 360
    },
    "id": "-G4DSpvFRrk4",
    "outputId": "1821049e-a4f0-437f-b8a7-e415431fbdb0"
   },
   "outputs": [],
   "source": [
    "# Create a OneHotEncoder for the Attrition column\n",
    "encoder_attrition = OneHotEncoder(sparse_output=False)\n",
    "\n",
    "\n",
    "# Fit the encoder to the training data\n",
    "y_attrition = encoder_attrition.fit_transform(y_df[['Attrition']])\n",
    "\n",
    "# Create two new variables by applying the encoder\n",
    "# to the training and testing data"
   ]
  },
  {
   "cell_type": "code",
   "execution_count": 31,
   "metadata": {},
   "outputs": [],
   "source": [
    "#train_test_split on new variables\n",
    "X_train, X_test, y_train_attrition, y_test_attrition, y_train_department, y_test_department = train_test_split(X_df, y_attrition, y_department, random_state=1)"
   ]
  },
  {
   "cell_type": "markdown",
   "metadata": {
    "id": "ykNmu_WWGc3T"
   },
   "source": [
    "## Part 2: Create, Compile, and Train the Model"
   ]
  },
  {
   "cell_type": "code",
   "execution_count": 32,
   "metadata": {
    "executionInfo": {
     "elapsed": 309,
     "status": "ok",
     "timestamp": 1730699227563,
     "user": {
      "displayName": "Alexander Booth",
      "userId": "02269714993535573104"
     },
     "user_tz": 360
    },
    "id": "WUptZqmSGc3T"
   },
   "outputs": [],
   "source": [
    "# Find the number of columns in the X training data.\n",
    "len(X_train_scaled[0])\n",
    "\n",
    "# Create the input layer\n",
    "input_layer = Input(shape=(X_train_scaled.shape[1],))\n",
    "\n",
    "# Create at least two shared layers\n",
    "shared_layer_1 = Dense(64, activation='relu')(input_layer)\n",
    "shared_layer_2 = Dense(32, activation='relu')(shared_layer_1)"
   ]
  },
  {
   "cell_type": "code",
   "execution_count": 33,
   "metadata": {
    "executionInfo": {
     "elapsed": 118,
     "status": "ok",
     "timestamp": 1730699227678,
     "user": {
      "displayName": "Alexander Booth",
      "userId": "02269714993535573104"
     },
     "user_tz": 360
    },
    "id": "JukjTm2yTEqd"
   },
   "outputs": [],
   "source": [
    "# Create a branch for Department\n",
    "# with a hidden layer and an output layer\n",
    "\n",
    "# Create the hidden layer\n",
    "department_hidden = Dense(16, activation='relu')(shared_layer_2)\n",
    "\n",
    "# Create the output layer\n",
    "department_output = Dense(y_train_department.shape[1], activation='softmax', name='department_output')(department_hidden)"
   ]
  },
  {
   "cell_type": "code",
   "execution_count": 34,
   "metadata": {
    "executionInfo": {
     "elapsed": 9,
     "status": "ok",
     "timestamp": 1730699227679,
     "user": {
      "displayName": "Alexander Booth",
      "userId": "02269714993535573104"
     },
     "user_tz": 360
    },
    "id": "9OqhUiOJUBkR"
   },
   "outputs": [],
   "source": [
    "# Create a branch for Attrition\n",
    "# with a hidden layer and an output layer\n",
    "\n",
    "# Create the hidden layer\n",
    "attrition_hidden = Dense(16, activation='relu')(shared_layer_2)\n",
    "\n",
    "# Create the output layer\n",
    "attrition_output = Dense(y_train_attrition.shape[1], activation='softmax', name='attrition_output')(attrition_hidden)"
   ]
  },
  {
   "cell_type": "code",
   "execution_count": 37,
   "metadata": {
    "colab": {
     "base_uri": "https://localhost:8080/",
     "height": 361
    },
    "executionInfo": {
     "elapsed": 108,
     "status": "ok",
     "timestamp": 1730699227780,
     "user": {
      "displayName": "Alexander Booth",
      "userId": "02269714993535573104"
     },
     "user_tz": 360
    },
    "id": "twmuejdxGc3T",
    "outputId": "dd9ce242-6a66-4709-ba13-4b13551c22e0"
   },
   "outputs": [
    {
     "data": {
      "text/html": [
       "<pre style=\"white-space:pre;overflow-x:auto;line-height:normal;font-family:Menlo,'DejaVu Sans Mono',consolas,'Courier New',monospace\"><span style=\"font-weight: bold\">Model: \"functional_2\"</span>\n",
       "</pre>\n"
      ],
      "text/plain": [
       "\u001b[1mModel: \"functional_2\"\u001b[0m\n"
      ]
     },
     "metadata": {},
     "output_type": "display_data"
    },
    {
     "data": {
      "text/html": [
       "<pre style=\"white-space:pre;overflow-x:auto;line-height:normal;font-family:Menlo,'DejaVu Sans Mono',consolas,'Courier New',monospace\">┏━━━━━━━━━━━━━━━━━━━━━┳━━━━━━━━━━━━━━━━━━━┳━━━━━━━━━━━━┳━━━━━━━━━━━━━━━━━━━┓\n",
       "┃<span style=\"font-weight: bold\"> Layer (type)        </span>┃<span style=\"font-weight: bold\"> Output Shape      </span>┃<span style=\"font-weight: bold\">    Param # </span>┃<span style=\"font-weight: bold\"> Connected to      </span>┃\n",
       "┡━━━━━━━━━━━━━━━━━━━━━╇━━━━━━━━━━━━━━━━━━━╇━━━━━━━━━━━━╇━━━━━━━━━━━━━━━━━━━┩\n",
       "│ input_layer         │ (<span style=\"color: #00d7ff; text-decoration-color: #00d7ff\">None</span>, <span style=\"color: #00af00; text-decoration-color: #00af00\">10</span>)        │          <span style=\"color: #00af00; text-decoration-color: #00af00\">0</span> │ -                 │\n",
       "│ (<span style=\"color: #0087ff; text-decoration-color: #0087ff\">InputLayer</span>)        │                   │            │                   │\n",
       "├─────────────────────┼───────────────────┼────────────┼───────────────────┤\n",
       "│ dense (<span style=\"color: #0087ff; text-decoration-color: #0087ff\">Dense</span>)       │ (<span style=\"color: #00d7ff; text-decoration-color: #00d7ff\">None</span>, <span style=\"color: #00af00; text-decoration-color: #00af00\">64</span>)        │        <span style=\"color: #00af00; text-decoration-color: #00af00\">704</span> │ input_layer[<span style=\"color: #00af00; text-decoration-color: #00af00\">0</span>][<span style=\"color: #00af00; text-decoration-color: #00af00\">0</span>] │\n",
       "├─────────────────────┼───────────────────┼────────────┼───────────────────┤\n",
       "│ dense_1 (<span style=\"color: #0087ff; text-decoration-color: #0087ff\">Dense</span>)     │ (<span style=\"color: #00d7ff; text-decoration-color: #00d7ff\">None</span>, <span style=\"color: #00af00; text-decoration-color: #00af00\">32</span>)        │      <span style=\"color: #00af00; text-decoration-color: #00af00\">2,080</span> │ dense[<span style=\"color: #00af00; text-decoration-color: #00af00\">0</span>][<span style=\"color: #00af00; text-decoration-color: #00af00\">0</span>]       │\n",
       "├─────────────────────┼───────────────────┼────────────┼───────────────────┤\n",
       "│ dense_2 (<span style=\"color: #0087ff; text-decoration-color: #0087ff\">Dense</span>)     │ (<span style=\"color: #00d7ff; text-decoration-color: #00d7ff\">None</span>, <span style=\"color: #00af00; text-decoration-color: #00af00\">16</span>)        │        <span style=\"color: #00af00; text-decoration-color: #00af00\">528</span> │ dense_1[<span style=\"color: #00af00; text-decoration-color: #00af00\">0</span>][<span style=\"color: #00af00; text-decoration-color: #00af00\">0</span>]     │\n",
       "├─────────────────────┼───────────────────┼────────────┼───────────────────┤\n",
       "│ dense_3 (<span style=\"color: #0087ff; text-decoration-color: #0087ff\">Dense</span>)     │ (<span style=\"color: #00d7ff; text-decoration-color: #00d7ff\">None</span>, <span style=\"color: #00af00; text-decoration-color: #00af00\">16</span>)        │        <span style=\"color: #00af00; text-decoration-color: #00af00\">528</span> │ dense_1[<span style=\"color: #00af00; text-decoration-color: #00af00\">0</span>][<span style=\"color: #00af00; text-decoration-color: #00af00\">0</span>]     │\n",
       "├─────────────────────┼───────────────────┼────────────┼───────────────────┤\n",
       "│ department_output   │ (<span style=\"color: #00d7ff; text-decoration-color: #00d7ff\">None</span>, <span style=\"color: #00af00; text-decoration-color: #00af00\">3</span>)         │         <span style=\"color: #00af00; text-decoration-color: #00af00\">51</span> │ dense_2[<span style=\"color: #00af00; text-decoration-color: #00af00\">0</span>][<span style=\"color: #00af00; text-decoration-color: #00af00\">0</span>]     │\n",
       "│ (<span style=\"color: #0087ff; text-decoration-color: #0087ff\">Dense</span>)             │                   │            │                   │\n",
       "├─────────────────────┼───────────────────┼────────────┼───────────────────┤\n",
       "│ attrition_output    │ (<span style=\"color: #00d7ff; text-decoration-color: #00d7ff\">None</span>, <span style=\"color: #00af00; text-decoration-color: #00af00\">2</span>)         │         <span style=\"color: #00af00; text-decoration-color: #00af00\">34</span> │ dense_3[<span style=\"color: #00af00; text-decoration-color: #00af00\">0</span>][<span style=\"color: #00af00; text-decoration-color: #00af00\">0</span>]     │\n",
       "│ (<span style=\"color: #0087ff; text-decoration-color: #0087ff\">Dense</span>)             │                   │            │                   │\n",
       "└─────────────────────┴───────────────────┴────────────┴───────────────────┘\n",
       "</pre>\n"
      ],
      "text/plain": [
       "┏━━━━━━━━━━━━━━━━━━━━━┳━━━━━━━━━━━━━━━━━━━┳━━━━━━━━━━━━┳━━━━━━━━━━━━━━━━━━━┓\n",
       "┃\u001b[1m \u001b[0m\u001b[1mLayer (type)       \u001b[0m\u001b[1m \u001b[0m┃\u001b[1m \u001b[0m\u001b[1mOutput Shape     \u001b[0m\u001b[1m \u001b[0m┃\u001b[1m \u001b[0m\u001b[1m   Param #\u001b[0m\u001b[1m \u001b[0m┃\u001b[1m \u001b[0m\u001b[1mConnected to     \u001b[0m\u001b[1m \u001b[0m┃\n",
       "┡━━━━━━━━━━━━━━━━━━━━━╇━━━━━━━━━━━━━━━━━━━╇━━━━━━━━━━━━╇━━━━━━━━━━━━━━━━━━━┩\n",
       "│ input_layer         │ (\u001b[38;5;45mNone\u001b[0m, \u001b[38;5;34m10\u001b[0m)        │          \u001b[38;5;34m0\u001b[0m │ -                 │\n",
       "│ (\u001b[38;5;33mInputLayer\u001b[0m)        │                   │            │                   │\n",
       "├─────────────────────┼───────────────────┼────────────┼───────────────────┤\n",
       "│ dense (\u001b[38;5;33mDense\u001b[0m)       │ (\u001b[38;5;45mNone\u001b[0m, \u001b[38;5;34m64\u001b[0m)        │        \u001b[38;5;34m704\u001b[0m │ input_layer[\u001b[38;5;34m0\u001b[0m][\u001b[38;5;34m0\u001b[0m] │\n",
       "├─────────────────────┼───────────────────┼────────────┼───────────────────┤\n",
       "│ dense_1 (\u001b[38;5;33mDense\u001b[0m)     │ (\u001b[38;5;45mNone\u001b[0m, \u001b[38;5;34m32\u001b[0m)        │      \u001b[38;5;34m2,080\u001b[0m │ dense[\u001b[38;5;34m0\u001b[0m][\u001b[38;5;34m0\u001b[0m]       │\n",
       "├─────────────────────┼───────────────────┼────────────┼───────────────────┤\n",
       "│ dense_2 (\u001b[38;5;33mDense\u001b[0m)     │ (\u001b[38;5;45mNone\u001b[0m, \u001b[38;5;34m16\u001b[0m)        │        \u001b[38;5;34m528\u001b[0m │ dense_1[\u001b[38;5;34m0\u001b[0m][\u001b[38;5;34m0\u001b[0m]     │\n",
       "├─────────────────────┼───────────────────┼────────────┼───────────────────┤\n",
       "│ dense_3 (\u001b[38;5;33mDense\u001b[0m)     │ (\u001b[38;5;45mNone\u001b[0m, \u001b[38;5;34m16\u001b[0m)        │        \u001b[38;5;34m528\u001b[0m │ dense_1[\u001b[38;5;34m0\u001b[0m][\u001b[38;5;34m0\u001b[0m]     │\n",
       "├─────────────────────┼───────────────────┼────────────┼───────────────────┤\n",
       "│ department_output   │ (\u001b[38;5;45mNone\u001b[0m, \u001b[38;5;34m3\u001b[0m)         │         \u001b[38;5;34m51\u001b[0m │ dense_2[\u001b[38;5;34m0\u001b[0m][\u001b[38;5;34m0\u001b[0m]     │\n",
       "│ (\u001b[38;5;33mDense\u001b[0m)             │                   │            │                   │\n",
       "├─────────────────────┼───────────────────┼────────────┼───────────────────┤\n",
       "│ attrition_output    │ (\u001b[38;5;45mNone\u001b[0m, \u001b[38;5;34m2\u001b[0m)         │         \u001b[38;5;34m34\u001b[0m │ dense_3[\u001b[38;5;34m0\u001b[0m][\u001b[38;5;34m0\u001b[0m]     │\n",
       "│ (\u001b[38;5;33mDense\u001b[0m)             │                   │            │                   │\n",
       "└─────────────────────┴───────────────────┴────────────┴───────────────────┘\n"
      ]
     },
     "metadata": {},
     "output_type": "display_data"
    },
    {
     "data": {
      "text/html": [
       "<pre style=\"white-space:pre;overflow-x:auto;line-height:normal;font-family:Menlo,'DejaVu Sans Mono',consolas,'Courier New',monospace\"><span style=\"font-weight: bold\"> Total params: </span><span style=\"color: #00af00; text-decoration-color: #00af00\">3,925</span> (15.33 KB)\n",
       "</pre>\n"
      ],
      "text/plain": [
       "\u001b[1m Total params: \u001b[0m\u001b[38;5;34m3,925\u001b[0m (15.33 KB)\n"
      ]
     },
     "metadata": {},
     "output_type": "display_data"
    },
    {
     "data": {
      "text/html": [
       "<pre style=\"white-space:pre;overflow-x:auto;line-height:normal;font-family:Menlo,'DejaVu Sans Mono',consolas,'Courier New',monospace\"><span style=\"font-weight: bold\"> Trainable params: </span><span style=\"color: #00af00; text-decoration-color: #00af00\">3,925</span> (15.33 KB)\n",
       "</pre>\n"
      ],
      "text/plain": [
       "\u001b[1m Trainable params: \u001b[0m\u001b[38;5;34m3,925\u001b[0m (15.33 KB)\n"
      ]
     },
     "metadata": {},
     "output_type": "display_data"
    },
    {
     "data": {
      "text/html": [
       "<pre style=\"white-space:pre;overflow-x:auto;line-height:normal;font-family:Menlo,'DejaVu Sans Mono',consolas,'Courier New',monospace\"><span style=\"font-weight: bold\"> Non-trainable params: </span><span style=\"color: #00af00; text-decoration-color: #00af00\">0</span> (0.00 B)\n",
       "</pre>\n"
      ],
      "text/plain": [
       "\u001b[1m Non-trainable params: \u001b[0m\u001b[38;5;34m0\u001b[0m (0.00 B)\n"
      ]
     },
     "metadata": {},
     "output_type": "display_data"
    }
   ],
   "source": [
    "# Create the model\n",
    "model = Model(inputs=input_layer, outputs=[department_output, attrition_output])\n",
    "\n",
    "# Compile the model\n",
    "model.compile(\n",
    "    optimizer='adam',\n",
    "    loss={'department_output': 'categorical_crossentropy', 'attrition_output': 'categorical_crossentropy'},\n",
    "    metrics={'department_output': 'accuracy', 'attrition_output': 'accuracy'}\n",
    ")\n",
    "\n",
    "# Summarize the model\n",
    "model.summary()"
   ]
  },
  {
   "cell_type": "code",
   "execution_count": 39,
   "metadata": {
    "colab": {
     "base_uri": "https://localhost:8080/"
    },
    "executionInfo": {
     "elapsed": 31740,
     "status": "ok",
     "timestamp": 1730699259517,
     "user": {
      "displayName": "Alexander Booth",
      "userId": "02269714993535573104"
     },
     "user_tz": 360
    },
    "id": "c8oGy0dpGc3U",
    "outputId": "f48a5292-426f-4715-ea6e-381a8e9d5542"
   },
   "outputs": [
    {
     "name": "stdout",
     "output_type": "stream",
     "text": [
      "Epoch 1/100\n",
      "\u001b[1m35/35\u001b[0m \u001b[32m━━━━━━━━━━━━━━━━━━━━\u001b[0m\u001b[37m\u001b[0m \u001b[1m0s\u001b[0m 4ms/step - attrition_output_accuracy: 0.9416 - attrition_output_loss: 0.1753 - department_output_accuracy: 0.7966 - department_output_loss: 0.4939 - loss: 0.6688 - val_attrition_output_accuracy: 0.7962 - val_attrition_output_loss: 0.6086 - val_department_output_accuracy: 0.6141 - val_department_output_loss: 0.8803 - val_loss: 1.5191\n",
      "Epoch 2/100\n",
      "\u001b[1m35/35\u001b[0m \u001b[32m━━━━━━━━━━━━━━━━━━━━\u001b[0m\u001b[37m\u001b[0m \u001b[1m0s\u001b[0m 3ms/step - attrition_output_accuracy: 0.9215 - attrition_output_loss: 0.1884 - department_output_accuracy: 0.7936 - department_output_loss: 0.5017 - loss: 0.6901 - val_attrition_output_accuracy: 0.7962 - val_attrition_output_loss: 0.6206 - val_department_output_accuracy: 0.6277 - val_department_output_loss: 0.8985 - val_loss: 1.5540\n",
      "Epoch 3/100\n",
      "\u001b[1m35/35\u001b[0m \u001b[32m━━━━━━━━━━━━━━━━━━━━\u001b[0m\u001b[37m\u001b[0m \u001b[1m0s\u001b[0m 3ms/step - attrition_output_accuracy: 0.9173 - attrition_output_loss: 0.1988 - department_output_accuracy: 0.7959 - department_output_loss: 0.4932 - loss: 0.6919 - val_attrition_output_accuracy: 0.7908 - val_attrition_output_loss: 0.6398 - val_department_output_accuracy: 0.6168 - val_department_output_loss: 0.9153 - val_loss: 1.5895\n",
      "Epoch 4/100\n",
      "\u001b[1m35/35\u001b[0m \u001b[32m━━━━━━━━━━━━━━━━━━━━\u001b[0m\u001b[37m\u001b[0m \u001b[1m0s\u001b[0m 3ms/step - attrition_output_accuracy: 0.9174 - attrition_output_loss: 0.1866 - department_output_accuracy: 0.8135 - department_output_loss: 0.4560 - loss: 0.6427 - val_attrition_output_accuracy: 0.7853 - val_attrition_output_loss: 0.6393 - val_department_output_accuracy: 0.5870 - val_department_output_loss: 0.9282 - val_loss: 1.5976\n",
      "Epoch 5/100\n",
      "\u001b[1m35/35\u001b[0m \u001b[32m━━━━━━━━━━━━━━━━━━━━\u001b[0m\u001b[37m\u001b[0m \u001b[1m0s\u001b[0m 3ms/step - attrition_output_accuracy: 0.9329 - attrition_output_loss: 0.1935 - department_output_accuracy: 0.8072 - department_output_loss: 0.4790 - loss: 0.6725 - val_attrition_output_accuracy: 0.7908 - val_attrition_output_loss: 0.6363 - val_department_output_accuracy: 0.6005 - val_department_output_loss: 0.9151 - val_loss: 1.5861\n",
      "Epoch 6/100\n",
      "\u001b[1m35/35\u001b[0m \u001b[32m━━━━━━━━━━━━━━━━━━━━\u001b[0m\u001b[37m\u001b[0m \u001b[1m0s\u001b[0m 3ms/step - attrition_output_accuracy: 0.9287 - attrition_output_loss: 0.1622 - department_output_accuracy: 0.8119 - department_output_loss: 0.4519 - loss: 0.6139 - val_attrition_output_accuracy: 0.7880 - val_attrition_output_loss: 0.6453 - val_department_output_accuracy: 0.6033 - val_department_output_loss: 0.9140 - val_loss: 1.5927\n",
      "Epoch 7/100\n",
      "\u001b[1m35/35\u001b[0m \u001b[32m━━━━━━━━━━━━━━━━━━━━\u001b[0m\u001b[37m\u001b[0m \u001b[1m0s\u001b[0m 3ms/step - attrition_output_accuracy: 0.9276 - attrition_output_loss: 0.1746 - department_output_accuracy: 0.8196 - department_output_loss: 0.4608 - loss: 0.6356 - val_attrition_output_accuracy: 0.7853 - val_attrition_output_loss: 0.6655 - val_department_output_accuracy: 0.6114 - val_department_output_loss: 0.9292 - val_loss: 1.6295\n",
      "Epoch 8/100\n",
      "\u001b[1m35/35\u001b[0m \u001b[32m━━━━━━━━━━━━━━━━━━━━\u001b[0m\u001b[37m\u001b[0m \u001b[1m0s\u001b[0m 3ms/step - attrition_output_accuracy: 0.9303 - attrition_output_loss: 0.1657 - department_output_accuracy: 0.8304 - department_output_loss: 0.4500 - loss: 0.6157 - val_attrition_output_accuracy: 0.7880 - val_attrition_output_loss: 0.6597 - val_department_output_accuracy: 0.6168 - val_department_output_loss: 0.9372 - val_loss: 1.6325\n",
      "Epoch 9/100\n",
      "\u001b[1m35/35\u001b[0m \u001b[32m━━━━━━━━━━━━━━━━━━━━\u001b[0m\u001b[37m\u001b[0m \u001b[1m0s\u001b[0m 3ms/step - attrition_output_accuracy: 0.9392 - attrition_output_loss: 0.1598 - department_output_accuracy: 0.8221 - department_output_loss: 0.4480 - loss: 0.6075 - val_attrition_output_accuracy: 0.7826 - val_attrition_output_loss: 0.6525 - val_department_output_accuracy: 0.6250 - val_department_output_loss: 0.9447 - val_loss: 1.6341\n",
      "Epoch 10/100\n",
      "\u001b[1m35/35\u001b[0m \u001b[32m━━━━━━━━━━━━━━━━━━━━\u001b[0m\u001b[37m\u001b[0m \u001b[1m0s\u001b[0m 3ms/step - attrition_output_accuracy: 0.9327 - attrition_output_loss: 0.1663 - department_output_accuracy: 0.8392 - department_output_loss: 0.4280 - loss: 0.5941 - val_attrition_output_accuracy: 0.7935 - val_attrition_output_loss: 0.6882 - val_department_output_accuracy: 0.6141 - val_department_output_loss: 0.9508 - val_loss: 1.6747\n",
      "Epoch 11/100\n",
      "\u001b[1m35/35\u001b[0m \u001b[32m━━━━━━━━━━━━━━━━━━━━\u001b[0m\u001b[37m\u001b[0m \u001b[1m0s\u001b[0m 3ms/step - attrition_output_accuracy: 0.9470 - attrition_output_loss: 0.1415 - department_output_accuracy: 0.8188 - department_output_loss: 0.4527 - loss: 0.5941 - val_attrition_output_accuracy: 0.7880 - val_attrition_output_loss: 0.7245 - val_department_output_accuracy: 0.6114 - val_department_output_loss: 0.9540 - val_loss: 1.7125\n",
      "Epoch 12/100\n",
      "\u001b[1m35/35\u001b[0m \u001b[32m━━━━━━━━━━━━━━━━━━━━\u001b[0m\u001b[37m\u001b[0m \u001b[1m0s\u001b[0m 3ms/step - attrition_output_accuracy: 0.9304 - attrition_output_loss: 0.1558 - department_output_accuracy: 0.8352 - department_output_loss: 0.4231 - loss: 0.5788 - val_attrition_output_accuracy: 0.7636 - val_attrition_output_loss: 0.6961 - val_department_output_accuracy: 0.6087 - val_department_output_loss: 0.9545 - val_loss: 1.6872\n",
      "Epoch 13/100\n",
      "\u001b[1m35/35\u001b[0m \u001b[32m━━━━━━━━━━━━━━━━━━━━\u001b[0m\u001b[37m\u001b[0m \u001b[1m0s\u001b[0m 3ms/step - attrition_output_accuracy: 0.9383 - attrition_output_loss: 0.1490 - department_output_accuracy: 0.8366 - department_output_loss: 0.4265 - loss: 0.5756 - val_attrition_output_accuracy: 0.7989 - val_attrition_output_loss: 0.7296 - val_department_output_accuracy: 0.6060 - val_department_output_loss: 0.9563 - val_loss: 1.7194\n",
      "Epoch 14/100\n",
      "\u001b[1m35/35\u001b[0m \u001b[32m━━━━━━━━━━━━━━━━━━━━\u001b[0m\u001b[37m\u001b[0m \u001b[1m0s\u001b[0m 3ms/step - attrition_output_accuracy: 0.9417 - attrition_output_loss: 0.1503 - department_output_accuracy: 0.8573 - department_output_loss: 0.3991 - loss: 0.5493 - val_attrition_output_accuracy: 0.7880 - val_attrition_output_loss: 0.7470 - val_department_output_accuracy: 0.6141 - val_department_output_loss: 0.9607 - val_loss: 1.7428\n",
      "Epoch 15/100\n",
      "\u001b[1m35/35\u001b[0m \u001b[32m━━━━━━━━━━━━━━━━━━━━\u001b[0m\u001b[37m\u001b[0m \u001b[1m0s\u001b[0m 3ms/step - attrition_output_accuracy: 0.9457 - attrition_output_loss: 0.1454 - department_output_accuracy: 0.8483 - department_output_loss: 0.4080 - loss: 0.5535 - val_attrition_output_accuracy: 0.7799 - val_attrition_output_loss: 0.7179 - val_department_output_accuracy: 0.6196 - val_department_output_loss: 0.9720 - val_loss: 1.7274\n",
      "Epoch 16/100\n",
      "\u001b[1m35/35\u001b[0m \u001b[32m━━━━━━━━━━━━━━━━━━━━\u001b[0m\u001b[37m\u001b[0m \u001b[1m0s\u001b[0m 3ms/step - attrition_output_accuracy: 0.9537 - attrition_output_loss: 0.1348 - department_output_accuracy: 0.8504 - department_output_loss: 0.4059 - loss: 0.5405 - val_attrition_output_accuracy: 0.7908 - val_attrition_output_loss: 0.7710 - val_department_output_accuracy: 0.6114 - val_department_output_loss: 0.9999 - val_loss: 1.8086\n",
      "Epoch 17/100\n",
      "\u001b[1m35/35\u001b[0m \u001b[32m━━━━━━━━━━━━━━━━━━━━\u001b[0m\u001b[37m\u001b[0m \u001b[1m0s\u001b[0m 3ms/step - attrition_output_accuracy: 0.9458 - attrition_output_loss: 0.1445 - department_output_accuracy: 0.8440 - department_output_loss: 0.4104 - loss: 0.5550 - val_attrition_output_accuracy: 0.7799 - val_attrition_output_loss: 0.7377 - val_department_output_accuracy: 0.6087 - val_department_output_loss: 0.9819 - val_loss: 1.7553\n",
      "Epoch 18/100\n",
      "\u001b[1m35/35\u001b[0m \u001b[32m━━━━━━━━━━━━━━━━━━━━\u001b[0m\u001b[37m\u001b[0m \u001b[1m0s\u001b[0m 3ms/step - attrition_output_accuracy: 0.9304 - attrition_output_loss: 0.1454 - department_output_accuracy: 0.8268 - department_output_loss: 0.4319 - loss: 0.5774 - val_attrition_output_accuracy: 0.7799 - val_attrition_output_loss: 0.7708 - val_department_output_accuracy: 0.6060 - val_department_output_loss: 1.0018 - val_loss: 1.8084\n",
      "Epoch 19/100\n",
      "\u001b[1m35/35\u001b[0m \u001b[32m━━━━━━━━━━━━━━━━━━━━\u001b[0m\u001b[37m\u001b[0m \u001b[1m0s\u001b[0m 3ms/step - attrition_output_accuracy: 0.9599 - attrition_output_loss: 0.1316 - department_output_accuracy: 0.8383 - department_output_loss: 0.4174 - loss: 0.5491 - val_attrition_output_accuracy: 0.7717 - val_attrition_output_loss: 0.7559 - val_department_output_accuracy: 0.6141 - val_department_output_loss: 1.0016 - val_loss: 1.7951\n",
      "Epoch 20/100\n",
      "\u001b[1m35/35\u001b[0m \u001b[32m━━━━━━━━━━━━━━━━━━━━\u001b[0m\u001b[37m\u001b[0m \u001b[1m0s\u001b[0m 3ms/step - attrition_output_accuracy: 0.9480 - attrition_output_loss: 0.1426 - department_output_accuracy: 0.8380 - department_output_loss: 0.3993 - loss: 0.5420 - val_attrition_output_accuracy: 0.7826 - val_attrition_output_loss: 0.7700 - val_department_output_accuracy: 0.6060 - val_department_output_loss: 1.0145 - val_loss: 1.8216\n",
      "Epoch 21/100\n",
      "\u001b[1m35/35\u001b[0m \u001b[32m━━━━━━━━━━━━━━━━━━━━\u001b[0m\u001b[37m\u001b[0m \u001b[1m0s\u001b[0m 3ms/step - attrition_output_accuracy: 0.9560 - attrition_output_loss: 0.1377 - department_output_accuracy: 0.8393 - department_output_loss: 0.3978 - loss: 0.5355 - val_attrition_output_accuracy: 0.7908 - val_attrition_output_loss: 0.8085 - val_department_output_accuracy: 0.6168 - val_department_output_loss: 1.0129 - val_loss: 1.8590\n",
      "Epoch 22/100\n",
      "\u001b[1m35/35\u001b[0m \u001b[32m━━━━━━━━━━━━━━━━━━━━\u001b[0m\u001b[37m\u001b[0m \u001b[1m0s\u001b[0m 3ms/step - attrition_output_accuracy: 0.9470 - attrition_output_loss: 0.1328 - department_output_accuracy: 0.8454 - department_output_loss: 0.3798 - loss: 0.5127 - val_attrition_output_accuracy: 0.7690 - val_attrition_output_loss: 0.7842 - val_department_output_accuracy: 0.5924 - val_department_output_loss: 1.0211 - val_loss: 1.8444\n",
      "Epoch 23/100\n",
      "\u001b[1m35/35\u001b[0m \u001b[32m━━━━━━━━━━━━━━━━━━━━\u001b[0m\u001b[37m\u001b[0m \u001b[1m0s\u001b[0m 4ms/step - attrition_output_accuracy: 0.9562 - attrition_output_loss: 0.1200 - department_output_accuracy: 0.8478 - department_output_loss: 0.3998 - loss: 0.5200 - val_attrition_output_accuracy: 0.7989 - val_attrition_output_loss: 0.8429 - val_department_output_accuracy: 0.6359 - val_department_output_loss: 1.0377 - val_loss: 1.9171\n",
      "Epoch 24/100\n",
      "\u001b[1m35/35\u001b[0m \u001b[32m━━━━━━━━━━━━━━━━━━━━\u001b[0m\u001b[37m\u001b[0m \u001b[1m0s\u001b[0m 3ms/step - attrition_output_accuracy: 0.9422 - attrition_output_loss: 0.1423 - department_output_accuracy: 0.8537 - department_output_loss: 0.3788 - loss: 0.5211 - val_attrition_output_accuracy: 0.7826 - val_attrition_output_loss: 0.8185 - val_department_output_accuracy: 0.6087 - val_department_output_loss: 1.0405 - val_loss: 1.8984\n",
      "Epoch 25/100\n",
      "\u001b[1m35/35\u001b[0m \u001b[32m━━━━━━━━━━━━━━━━━━━━\u001b[0m\u001b[37m\u001b[0m \u001b[1m0s\u001b[0m 4ms/step - attrition_output_accuracy: 0.9603 - attrition_output_loss: 0.1129 - department_output_accuracy: 0.8573 - department_output_loss: 0.3773 - loss: 0.4903 - val_attrition_output_accuracy: 0.7962 - val_attrition_output_loss: 0.8550 - val_department_output_accuracy: 0.6087 - val_department_output_loss: 1.0305 - val_loss: 1.9229\n",
      "Epoch 26/100\n",
      "\u001b[1m35/35\u001b[0m \u001b[32m━━━━━━━━━━━━━━━━━━━━\u001b[0m\u001b[37m\u001b[0m \u001b[1m0s\u001b[0m 3ms/step - attrition_output_accuracy: 0.9495 - attrition_output_loss: 0.1453 - department_output_accuracy: 0.8668 - department_output_loss: 0.3665 - loss: 0.5117 - val_attrition_output_accuracy: 0.7745 - val_attrition_output_loss: 0.8350 - val_department_output_accuracy: 0.6060 - val_department_output_loss: 1.0594 - val_loss: 1.9355\n",
      "Epoch 27/100\n",
      "\u001b[1m35/35\u001b[0m \u001b[32m━━━━━━━━━━━━━━━━━━━━\u001b[0m\u001b[37m\u001b[0m \u001b[1m0s\u001b[0m 3ms/step - attrition_output_accuracy: 0.9584 - attrition_output_loss: 0.1165 - department_output_accuracy: 0.8794 - department_output_loss: 0.3662 - loss: 0.4826 - val_attrition_output_accuracy: 0.7799 - val_attrition_output_loss: 0.8481 - val_department_output_accuracy: 0.6114 - val_department_output_loss: 1.0590 - val_loss: 1.9490\n",
      "Epoch 28/100\n",
      "\u001b[1m35/35\u001b[0m \u001b[32m━━━━━━━━━━━━━━━━━━━━\u001b[0m\u001b[37m\u001b[0m \u001b[1m0s\u001b[0m 3ms/step - attrition_output_accuracy: 0.9591 - attrition_output_loss: 0.1150 - department_output_accuracy: 0.8570 - department_output_loss: 0.3742 - loss: 0.4893 - val_attrition_output_accuracy: 0.7772 - val_attrition_output_loss: 0.8757 - val_department_output_accuracy: 0.6304 - val_department_output_loss: 1.0543 - val_loss: 1.9726\n",
      "Epoch 29/100\n",
      "\u001b[1m35/35\u001b[0m \u001b[32m━━━━━━━━━━━━━━━━━━━━\u001b[0m\u001b[37m\u001b[0m \u001b[1m0s\u001b[0m 3ms/step - attrition_output_accuracy: 0.9711 - attrition_output_loss: 0.1131 - department_output_accuracy: 0.8585 - department_output_loss: 0.3750 - loss: 0.4879 - val_attrition_output_accuracy: 0.8043 - val_attrition_output_loss: 0.9205 - val_department_output_accuracy: 0.6223 - val_department_output_loss: 1.0696 - val_loss: 2.0288\n",
      "Epoch 30/100\n",
      "\u001b[1m35/35\u001b[0m \u001b[32m━━━━━━━━━━━━━━━━━━━━\u001b[0m\u001b[37m\u001b[0m \u001b[1m0s\u001b[0m 3ms/step - attrition_output_accuracy: 0.9626 - attrition_output_loss: 0.1187 - department_output_accuracy: 0.8652 - department_output_loss: 0.3897 - loss: 0.5085 - val_attrition_output_accuracy: 0.7799 - val_attrition_output_loss: 0.8907 - val_department_output_accuracy: 0.6087 - val_department_output_loss: 1.0650 - val_loss: 1.9958\n",
      "Epoch 31/100\n",
      "\u001b[1m35/35\u001b[0m \u001b[32m━━━━━━━━━━━━━━━━━━━━\u001b[0m\u001b[37m\u001b[0m \u001b[1m0s\u001b[0m 3ms/step - attrition_output_accuracy: 0.9601 - attrition_output_loss: 0.1075 - department_output_accuracy: 0.8602 - department_output_loss: 0.3618 - loss: 0.4694 - val_attrition_output_accuracy: 0.7772 - val_attrition_output_loss: 0.9041 - val_department_output_accuracy: 0.6141 - val_department_output_loss: 1.0984 - val_loss: 2.0458\n",
      "Epoch 32/100\n",
      "\u001b[1m35/35\u001b[0m \u001b[32m━━━━━━━━━━━━━━━━━━━━\u001b[0m\u001b[37m\u001b[0m \u001b[1m0s\u001b[0m 3ms/step - attrition_output_accuracy: 0.9624 - attrition_output_loss: 0.1156 - department_output_accuracy: 0.8821 - department_output_loss: 0.3398 - loss: 0.4555 - val_attrition_output_accuracy: 0.7690 - val_attrition_output_loss: 0.8875 - val_department_output_accuracy: 0.5978 - val_department_output_loss: 1.0864 - val_loss: 2.0130\n",
      "Epoch 33/100\n",
      "\u001b[1m35/35\u001b[0m \u001b[32m━━━━━━━━━━━━━━━━━━━━\u001b[0m\u001b[37m\u001b[0m \u001b[1m0s\u001b[0m 3ms/step - attrition_output_accuracy: 0.9536 - attrition_output_loss: 0.1104 - department_output_accuracy: 0.8609 - department_output_loss: 0.3588 - loss: 0.4690 - val_attrition_output_accuracy: 0.7935 - val_attrition_output_loss: 0.9614 - val_department_output_accuracy: 0.6141 - val_department_output_loss: 1.0977 - val_loss: 2.1029\n",
      "Epoch 34/100\n",
      "\u001b[1m35/35\u001b[0m \u001b[32m━━━━━━━━━━━━━━━━━━━━\u001b[0m\u001b[37m\u001b[0m \u001b[1m0s\u001b[0m 3ms/step - attrition_output_accuracy: 0.9558 - attrition_output_loss: 0.1151 - department_output_accuracy: 0.8829 - department_output_loss: 0.3516 - loss: 0.4668 - val_attrition_output_accuracy: 0.7663 - val_attrition_output_loss: 0.9074 - val_department_output_accuracy: 0.6168 - val_department_output_loss: 1.1220 - val_loss: 2.0760\n",
      "Epoch 35/100\n",
      "\u001b[1m35/35\u001b[0m \u001b[32m━━━━━━━━━━━━━━━━━━━━\u001b[0m\u001b[37m\u001b[0m \u001b[1m0s\u001b[0m 3ms/step - attrition_output_accuracy: 0.9664 - attrition_output_loss: 0.0989 - department_output_accuracy: 0.8665 - department_output_loss: 0.3391 - loss: 0.4379 - val_attrition_output_accuracy: 0.7690 - val_attrition_output_loss: 0.9099 - val_department_output_accuracy: 0.6141 - val_department_output_loss: 1.1292 - val_loss: 2.0884\n",
      "Epoch 36/100\n",
      "\u001b[1m35/35\u001b[0m \u001b[32m━━━━━━━━━━━━━━━━━━━━\u001b[0m\u001b[37m\u001b[0m \u001b[1m0s\u001b[0m 3ms/step - attrition_output_accuracy: 0.9741 - attrition_output_loss: 0.0807 - department_output_accuracy: 0.8926 - department_output_loss: 0.3105 - loss: 0.3912 - val_attrition_output_accuracy: 0.7799 - val_attrition_output_loss: 0.9740 - val_department_output_accuracy: 0.6060 - val_department_output_loss: 1.1338 - val_loss: 2.1515\n",
      "Epoch 37/100\n",
      "\u001b[1m35/35\u001b[0m \u001b[32m━━━━━━━━━━━━━━━━━━━━\u001b[0m\u001b[37m\u001b[0m \u001b[1m0s\u001b[0m 3ms/step - attrition_output_accuracy: 0.9674 - attrition_output_loss: 0.0921 - department_output_accuracy: 0.8773 - department_output_loss: 0.3560 - loss: 0.4482 - val_attrition_output_accuracy: 0.7582 - val_attrition_output_loss: 0.9258 - val_department_output_accuracy: 0.6087 - val_department_output_loss: 1.1349 - val_loss: 2.1084\n",
      "Epoch 38/100\n",
      "\u001b[1m35/35\u001b[0m \u001b[32m━━━━━━━━━━━━━━━━━━━━\u001b[0m\u001b[37m\u001b[0m \u001b[1m0s\u001b[0m 3ms/step - attrition_output_accuracy: 0.9755 - attrition_output_loss: 0.0930 - department_output_accuracy: 0.8945 - department_output_loss: 0.3242 - loss: 0.4173 - val_attrition_output_accuracy: 0.7908 - val_attrition_output_loss: 1.0041 - val_department_output_accuracy: 0.6141 - val_department_output_loss: 1.1633 - val_loss: 2.2147\n",
      "Epoch 39/100\n",
      "\u001b[1m35/35\u001b[0m \u001b[32m━━━━━━━━━━━━━━━━━━━━\u001b[0m\u001b[37m\u001b[0m \u001b[1m0s\u001b[0m 3ms/step - attrition_output_accuracy: 0.9643 - attrition_output_loss: 0.1080 - department_output_accuracy: 0.8851 - department_output_loss: 0.3368 - loss: 0.4448 - val_attrition_output_accuracy: 0.7989 - val_attrition_output_loss: 1.0291 - val_department_output_accuracy: 0.6114 - val_department_output_loss: 1.1627 - val_loss: 2.2376\n",
      "Epoch 40/100\n",
      "\u001b[1m35/35\u001b[0m \u001b[32m━━━━━━━━━━━━━━━━━━━━\u001b[0m\u001b[37m\u001b[0m \u001b[1m0s\u001b[0m 3ms/step - attrition_output_accuracy: 0.9657 - attrition_output_loss: 0.0928 - department_output_accuracy: 0.8830 - department_output_loss: 0.3234 - loss: 0.4163 - val_attrition_output_accuracy: 0.7717 - val_attrition_output_loss: 0.9611 - val_department_output_accuracy: 0.6087 - val_department_output_loss: 1.1505 - val_loss: 2.1615\n",
      "Epoch 41/100\n",
      "\u001b[1m35/35\u001b[0m \u001b[32m━━━━━━━━━━━━━━━━━━━━\u001b[0m\u001b[37m\u001b[0m \u001b[1m0s\u001b[0m 3ms/step - attrition_output_accuracy: 0.9676 - attrition_output_loss: 0.0949 - department_output_accuracy: 0.8905 - department_output_loss: 0.3066 - loss: 0.4014 - val_attrition_output_accuracy: 0.7880 - val_attrition_output_loss: 1.0442 - val_department_output_accuracy: 0.5951 - val_department_output_loss: 1.1812 - val_loss: 2.2709\n",
      "Epoch 42/100\n",
      "\u001b[1m35/35\u001b[0m \u001b[32m━━━━━━━━━━━━━━━━━━━━\u001b[0m\u001b[37m\u001b[0m \u001b[1m0s\u001b[0m 3ms/step - attrition_output_accuracy: 0.9726 - attrition_output_loss: 0.0914 - department_output_accuracy: 0.8936 - department_output_loss: 0.3029 - loss: 0.3943 - val_attrition_output_accuracy: 0.7554 - val_attrition_output_loss: 0.9930 - val_department_output_accuracy: 0.6005 - val_department_output_loss: 1.1634 - val_loss: 2.2065\n",
      "Epoch 43/100\n",
      "\u001b[1m35/35\u001b[0m \u001b[32m━━━━━━━━━━━━━━━━━━━━\u001b[0m\u001b[37m\u001b[0m \u001b[1m0s\u001b[0m 3ms/step - attrition_output_accuracy: 0.9749 - attrition_output_loss: 0.0844 - department_output_accuracy: 0.8878 - department_output_loss: 0.3167 - loss: 0.4011 - val_attrition_output_accuracy: 0.7853 - val_attrition_output_loss: 1.0220 - val_department_output_accuracy: 0.6168 - val_department_output_loss: 1.2161 - val_loss: 2.2907\n",
      "Epoch 44/100\n",
      "\u001b[1m35/35\u001b[0m \u001b[32m━━━━━━━━━━━━━━━━━━━━\u001b[0m\u001b[37m\u001b[0m \u001b[1m0s\u001b[0m 3ms/step - attrition_output_accuracy: 0.9703 - attrition_output_loss: 0.0890 - department_output_accuracy: 0.8860 - department_output_loss: 0.3262 - loss: 0.4150 - val_attrition_output_accuracy: 0.7609 - val_attrition_output_loss: 1.0206 - val_department_output_accuracy: 0.6033 - val_department_output_loss: 1.2148 - val_loss: 2.2866\n",
      "Epoch 45/100\n",
      "\u001b[1m35/35\u001b[0m \u001b[32m━━━━━━━━━━━━━━━━━━━━\u001b[0m\u001b[37m\u001b[0m \u001b[1m0s\u001b[0m 3ms/step - attrition_output_accuracy: 0.9730 - attrition_output_loss: 0.0806 - department_output_accuracy: 0.9058 - department_output_loss: 0.3162 - loss: 0.3970 - val_attrition_output_accuracy: 0.7690 - val_attrition_output_loss: 1.0621 - val_department_output_accuracy: 0.6060 - val_department_output_loss: 1.2158 - val_loss: 2.3265\n",
      "Epoch 46/100\n",
      "\u001b[1m35/35\u001b[0m \u001b[32m━━━━━━━━━━━━━━━━━━━━\u001b[0m\u001b[37m\u001b[0m \u001b[1m0s\u001b[0m 3ms/step - attrition_output_accuracy: 0.9834 - attrition_output_loss: 0.0714 - department_output_accuracy: 0.9105 - department_output_loss: 0.2850 - loss: 0.3562 - val_attrition_output_accuracy: 0.7962 - val_attrition_output_loss: 1.1031 - val_department_output_accuracy: 0.6196 - val_department_output_loss: 1.2046 - val_loss: 2.3557\n",
      "Epoch 47/100\n",
      "\u001b[1m35/35\u001b[0m \u001b[32m━━━━━━━━━━━━━━━━━━━━\u001b[0m\u001b[37m\u001b[0m \u001b[1m0s\u001b[0m 3ms/step - attrition_output_accuracy: 0.9698 - attrition_output_loss: 0.0857 - department_output_accuracy: 0.9030 - department_output_loss: 0.2846 - loss: 0.3701 - val_attrition_output_accuracy: 0.7527 - val_attrition_output_loss: 0.9916 - val_department_output_accuracy: 0.5870 - val_department_output_loss: 1.2509 - val_loss: 2.2955\n",
      "Epoch 48/100\n",
      "\u001b[1m35/35\u001b[0m \u001b[32m━━━━━━━━━━━━━━━━━━━━\u001b[0m\u001b[37m\u001b[0m \u001b[1m0s\u001b[0m 3ms/step - attrition_output_accuracy: 0.9732 - attrition_output_loss: 0.0866 - department_output_accuracy: 0.9041 - department_output_loss: 0.2861 - loss: 0.3727 - val_attrition_output_accuracy: 0.7935 - val_attrition_output_loss: 1.0791 - val_department_output_accuracy: 0.6060 - val_department_output_loss: 1.2382 - val_loss: 2.3698\n",
      "Epoch 49/100\n",
      "\u001b[1m35/35\u001b[0m \u001b[32m━━━━━━━━━━━━━━━━━━━━\u001b[0m\u001b[37m\u001b[0m \u001b[1m0s\u001b[0m 3ms/step - attrition_output_accuracy: 0.9823 - attrition_output_loss: 0.0682 - department_output_accuracy: 0.9071 - department_output_loss: 0.2805 - loss: 0.3485 - val_attrition_output_accuracy: 0.7745 - val_attrition_output_loss: 1.0878 - val_department_output_accuracy: 0.6087 - val_department_output_loss: 1.2325 - val_loss: 2.3710\n",
      "Epoch 50/100\n",
      "\u001b[1m35/35\u001b[0m \u001b[32m━━━━━━━━━━━━━━━━━━━━\u001b[0m\u001b[37m\u001b[0m \u001b[1m0s\u001b[0m 3ms/step - attrition_output_accuracy: 0.9743 - attrition_output_loss: 0.0756 - department_output_accuracy: 0.9024 - department_output_loss: 0.2739 - loss: 0.3496 - val_attrition_output_accuracy: 0.7826 - val_attrition_output_loss: 1.1439 - val_department_output_accuracy: 0.6114 - val_department_output_loss: 1.2843 - val_loss: 2.4796\n",
      "Epoch 51/100\n",
      "\u001b[1m35/35\u001b[0m \u001b[32m━━━━━━━━━━━━━━━━━━━━\u001b[0m\u001b[37m\u001b[0m \u001b[1m0s\u001b[0m 3ms/step - attrition_output_accuracy: 0.9834 - attrition_output_loss: 0.0646 - department_output_accuracy: 0.9068 - department_output_loss: 0.2771 - loss: 0.3417 - val_attrition_output_accuracy: 0.7636 - val_attrition_output_loss: 1.1057 - val_department_output_accuracy: 0.6005 - val_department_output_loss: 1.2394 - val_loss: 2.3955\n",
      "Epoch 52/100\n",
      "\u001b[1m35/35\u001b[0m \u001b[32m━━━━━━━━━━━━━━━━━━━━\u001b[0m\u001b[37m\u001b[0m \u001b[1m0s\u001b[0m 3ms/step - attrition_output_accuracy: 0.9824 - attrition_output_loss: 0.0676 - department_output_accuracy: 0.9090 - department_output_loss: 0.2821 - loss: 0.3497 - val_attrition_output_accuracy: 0.7690 - val_attrition_output_loss: 1.1280 - val_department_output_accuracy: 0.6005 - val_department_output_loss: 1.2646 - val_loss: 2.4414\n",
      "Epoch 53/100\n",
      "\u001b[1m35/35\u001b[0m \u001b[32m━━━━━━━━━━━━━━━━━━━━\u001b[0m\u001b[37m\u001b[0m \u001b[1m0s\u001b[0m 3ms/step - attrition_output_accuracy: 0.9722 - attrition_output_loss: 0.0773 - department_output_accuracy: 0.9148 - department_output_loss: 0.2886 - loss: 0.3659 - val_attrition_output_accuracy: 0.7554 - val_attrition_output_loss: 1.1217 - val_department_output_accuracy: 0.5870 - val_department_output_loss: 1.3314 - val_loss: 2.5128\n",
      "Epoch 54/100\n",
      "\u001b[1m35/35\u001b[0m \u001b[32m━━━━━━━━━━━━━━━━━━━━\u001b[0m\u001b[37m\u001b[0m \u001b[1m0s\u001b[0m 3ms/step - attrition_output_accuracy: 0.9749 - attrition_output_loss: 0.0729 - department_output_accuracy: 0.8764 - department_output_loss: 0.2940 - loss: 0.3670 - val_attrition_output_accuracy: 0.7554 - val_attrition_output_loss: 1.1245 - val_department_output_accuracy: 0.5951 - val_department_output_loss: 1.3144 - val_loss: 2.4943\n",
      "Epoch 55/100\n",
      "\u001b[1m35/35\u001b[0m \u001b[32m━━━━━━━━━━━━━━━━━━━━\u001b[0m\u001b[37m\u001b[0m \u001b[1m0s\u001b[0m 3ms/step - attrition_output_accuracy: 0.9816 - attrition_output_loss: 0.0673 - department_output_accuracy: 0.9014 - department_output_loss: 0.2709 - loss: 0.3383 - val_attrition_output_accuracy: 0.7690 - val_attrition_output_loss: 1.1396 - val_department_output_accuracy: 0.5951 - val_department_output_loss: 1.2934 - val_loss: 2.4866\n",
      "Epoch 56/100\n",
      "\u001b[1m35/35\u001b[0m \u001b[32m━━━━━━━━━━━━━━━━━━━━\u001b[0m\u001b[37m\u001b[0m \u001b[1m0s\u001b[0m 3ms/step - attrition_output_accuracy: 0.9820 - attrition_output_loss: 0.0749 - department_output_accuracy: 0.9095 - department_output_loss: 0.2774 - loss: 0.3524 - val_attrition_output_accuracy: 0.7826 - val_attrition_output_loss: 1.1988 - val_department_output_accuracy: 0.5679 - val_department_output_loss: 1.3176 - val_loss: 2.5655\n",
      "Epoch 57/100\n",
      "\u001b[1m35/35\u001b[0m \u001b[32m━━━━━━━━━━━━━━━━━━━━\u001b[0m\u001b[37m\u001b[0m \u001b[1m0s\u001b[0m 3ms/step - attrition_output_accuracy: 0.9794 - attrition_output_loss: 0.0648 - department_output_accuracy: 0.9018 - department_output_loss: 0.2749 - loss: 0.3398 - val_attrition_output_accuracy: 0.7636 - val_attrition_output_loss: 1.1246 - val_department_output_accuracy: 0.5788 - val_department_output_loss: 1.3367 - val_loss: 2.5138\n",
      "Epoch 58/100\n",
      "\u001b[1m35/35\u001b[0m \u001b[32m━━━━━━━━━━━━━━━━━━━━\u001b[0m\u001b[37m\u001b[0m \u001b[1m0s\u001b[0m 3ms/step - attrition_output_accuracy: 0.9834 - attrition_output_loss: 0.0690 - department_output_accuracy: 0.9322 - department_output_loss: 0.2589 - loss: 0.3277 - val_attrition_output_accuracy: 0.7772 - val_attrition_output_loss: 1.1964 - val_department_output_accuracy: 0.6087 - val_department_output_loss: 1.3337 - val_loss: 2.5838\n",
      "Epoch 59/100\n",
      "\u001b[1m35/35\u001b[0m \u001b[32m━━━━━━━━━━━━━━━━━━━━\u001b[0m\u001b[37m\u001b[0m \u001b[1m0s\u001b[0m 3ms/step - attrition_output_accuracy: 0.9825 - attrition_output_loss: 0.0664 - department_output_accuracy: 0.9046 - department_output_loss: 0.2602 - loss: 0.3267 - val_attrition_output_accuracy: 0.7663 - val_attrition_output_loss: 1.1976 - val_department_output_accuracy: 0.5652 - val_department_output_loss: 1.3374 - val_loss: 2.5844\n",
      "Epoch 60/100\n",
      "\u001b[1m35/35\u001b[0m \u001b[32m━━━━━━━━━━━━━━━━━━━━\u001b[0m\u001b[37m\u001b[0m \u001b[1m0s\u001b[0m 3ms/step - attrition_output_accuracy: 0.9818 - attrition_output_loss: 0.0589 - department_output_accuracy: 0.9150 - department_output_loss: 0.2687 - loss: 0.3276 - val_attrition_output_accuracy: 0.7609 - val_attrition_output_loss: 1.1860 - val_department_output_accuracy: 0.5924 - val_department_output_loss: 1.3532 - val_loss: 2.5951\n",
      "Epoch 61/100\n",
      "\u001b[1m35/35\u001b[0m \u001b[32m━━━━━━━━━━━━━━━━━━━━\u001b[0m\u001b[37m\u001b[0m \u001b[1m0s\u001b[0m 3ms/step - attrition_output_accuracy: 0.9902 - attrition_output_loss: 0.0566 - department_output_accuracy: 0.9144 - department_output_loss: 0.2680 - loss: 0.3246 - val_attrition_output_accuracy: 0.7717 - val_attrition_output_loss: 1.2282 - val_department_output_accuracy: 0.5870 - val_department_output_loss: 1.3607 - val_loss: 2.6429\n",
      "Epoch 62/100\n",
      "\u001b[1m35/35\u001b[0m \u001b[32m━━━━━━━━━━━━━━━━━━━━\u001b[0m\u001b[37m\u001b[0m \u001b[1m0s\u001b[0m 3ms/step - attrition_output_accuracy: 0.9809 - attrition_output_loss: 0.0593 - department_output_accuracy: 0.9269 - department_output_loss: 0.2320 - loss: 0.2914 - val_attrition_output_accuracy: 0.7663 - val_attrition_output_loss: 1.2117 - val_department_output_accuracy: 0.5897 - val_department_output_loss: 1.3899 - val_loss: 2.6601\n",
      "Epoch 63/100\n",
      "\u001b[1m35/35\u001b[0m \u001b[32m━━━━━━━━━━━━━━━━━━━━\u001b[0m\u001b[37m\u001b[0m \u001b[1m0s\u001b[0m 3ms/step - attrition_output_accuracy: 0.9786 - attrition_output_loss: 0.0625 - department_output_accuracy: 0.9355 - department_output_loss: 0.2433 - loss: 0.3058 - val_attrition_output_accuracy: 0.7582 - val_attrition_output_loss: 1.2338 - val_department_output_accuracy: 0.5842 - val_department_output_loss: 1.3872 - val_loss: 2.6775\n",
      "Epoch 64/100\n",
      "\u001b[1m35/35\u001b[0m \u001b[32m━━━━━━━━━━━━━━━━━━━━\u001b[0m\u001b[37m\u001b[0m \u001b[1m0s\u001b[0m 3ms/step - attrition_output_accuracy: 0.9740 - attrition_output_loss: 0.0731 - department_output_accuracy: 0.9308 - department_output_loss: 0.2335 - loss: 0.3067 - val_attrition_output_accuracy: 0.7473 - val_attrition_output_loss: 1.2693 - val_department_output_accuracy: 0.5924 - val_department_output_loss: 1.4041 - val_loss: 2.7269\n",
      "Epoch 65/100\n",
      "\u001b[1m35/35\u001b[0m \u001b[32m━━━━━━━━━━━━━━━━━━━━\u001b[0m\u001b[37m\u001b[0m \u001b[1m0s\u001b[0m 3ms/step - attrition_output_accuracy: 0.9884 - attrition_output_loss: 0.0605 - department_output_accuracy: 0.9358 - department_output_loss: 0.2291 - loss: 0.2897 - val_attrition_output_accuracy: 0.7717 - val_attrition_output_loss: 1.2950 - val_department_output_accuracy: 0.5924 - val_department_output_loss: 1.4171 - val_loss: 2.7701\n",
      "Epoch 66/100\n",
      "\u001b[1m35/35\u001b[0m \u001b[32m━━━━━━━━━━━━━━━━━━━━\u001b[0m\u001b[37m\u001b[0m \u001b[1m0s\u001b[0m 3ms/step - attrition_output_accuracy: 0.9767 - attrition_output_loss: 0.0640 - department_output_accuracy: 0.9368 - department_output_loss: 0.2190 - loss: 0.2826 - val_attrition_output_accuracy: 0.7527 - val_attrition_output_loss: 1.2208 - val_department_output_accuracy: 0.5951 - val_department_output_loss: 1.4126 - val_loss: 2.6977\n",
      "Epoch 67/100\n",
      "\u001b[1m35/35\u001b[0m \u001b[32m━━━━━━━━━━━━━━━━━━━━\u001b[0m\u001b[37m\u001b[0m \u001b[1m0s\u001b[0m 4ms/step - attrition_output_accuracy: 0.9760 - attrition_output_loss: 0.0683 - department_output_accuracy: 0.9410 - department_output_loss: 0.2168 - loss: 0.2847 - val_attrition_output_accuracy: 0.7609 - val_attrition_output_loss: 1.2788 - val_department_output_accuracy: 0.5870 - val_department_output_loss: 1.4569 - val_loss: 2.7929\n",
      "Epoch 68/100\n",
      "\u001b[1m35/35\u001b[0m \u001b[32m━━━━━━━━━━━━━━━━━━━━\u001b[0m\u001b[37m\u001b[0m \u001b[1m0s\u001b[0m 3ms/step - attrition_output_accuracy: 0.9833 - attrition_output_loss: 0.0591 - department_output_accuracy: 0.9133 - department_output_loss: 0.2602 - loss: 0.3193 - val_attrition_output_accuracy: 0.7609 - val_attrition_output_loss: 1.3522 - val_department_output_accuracy: 0.5978 - val_department_output_loss: 1.4076 - val_loss: 2.8195\n",
      "Epoch 69/100\n",
      "\u001b[1m35/35\u001b[0m \u001b[32m━━━━━━━━━━━━━━━━━━━━\u001b[0m\u001b[37m\u001b[0m \u001b[1m0s\u001b[0m 3ms/step - attrition_output_accuracy: 0.9903 - attrition_output_loss: 0.0679 - department_output_accuracy: 0.9325 - department_output_loss: 0.2214 - loss: 0.2892 - val_attrition_output_accuracy: 0.7826 - val_attrition_output_loss: 1.3720 - val_department_output_accuracy: 0.6060 - val_department_output_loss: 1.4638 - val_loss: 2.8938\n",
      "Epoch 70/100\n",
      "\u001b[1m35/35\u001b[0m \u001b[32m━━━━━━━━━━━━━━━━━━━━\u001b[0m\u001b[37m\u001b[0m \u001b[1m0s\u001b[0m 3ms/step - attrition_output_accuracy: 0.9836 - attrition_output_loss: 0.0570 - department_output_accuracy: 0.9389 - department_output_loss: 0.2168 - loss: 0.2737 - val_attrition_output_accuracy: 0.7609 - val_attrition_output_loss: 1.3271 - val_department_output_accuracy: 0.6005 - val_department_output_loss: 1.4719 - val_loss: 2.8604\n",
      "Epoch 71/100\n",
      "\u001b[1m35/35\u001b[0m \u001b[32m━━━━━━━━━━━━━━━━━━━━\u001b[0m\u001b[37m\u001b[0m \u001b[1m0s\u001b[0m 4ms/step - attrition_output_accuracy: 0.9905 - attrition_output_loss: 0.0493 - department_output_accuracy: 0.9427 - department_output_loss: 0.2077 - loss: 0.2569 - val_attrition_output_accuracy: 0.7609 - val_attrition_output_loss: 1.3165 - val_department_output_accuracy: 0.5761 - val_department_output_loss: 1.4654 - val_loss: 2.8421\n",
      "Epoch 72/100\n",
      "\u001b[1m35/35\u001b[0m \u001b[32m━━━━━━━━━━━━━━━━━━━━\u001b[0m\u001b[37m\u001b[0m \u001b[1m0s\u001b[0m 3ms/step - attrition_output_accuracy: 0.9907 - attrition_output_loss: 0.0511 - department_output_accuracy: 0.9257 - department_output_loss: 0.2264 - loss: 0.2775 - val_attrition_output_accuracy: 0.7663 - val_attrition_output_loss: 1.3562 - val_department_output_accuracy: 0.6005 - val_department_output_loss: 1.4837 - val_loss: 2.9001\n",
      "Epoch 73/100\n",
      "\u001b[1m35/35\u001b[0m \u001b[32m━━━━━━━━━━━━━━━━━━━━\u001b[0m\u001b[37m\u001b[0m \u001b[1m0s\u001b[0m 3ms/step - attrition_output_accuracy: 0.9914 - attrition_output_loss: 0.0424 - department_output_accuracy: 0.9379 - department_output_loss: 0.2203 - loss: 0.2627 - val_attrition_output_accuracy: 0.7636 - val_attrition_output_loss: 1.3697 - val_department_output_accuracy: 0.5924 - val_department_output_loss: 1.4657 - val_loss: 2.8966\n",
      "Epoch 74/100\n",
      "\u001b[1m35/35\u001b[0m \u001b[32m━━━━━━━━━━━━━━━━━━━━\u001b[0m\u001b[37m\u001b[0m \u001b[1m0s\u001b[0m 4ms/step - attrition_output_accuracy: 0.9933 - attrition_output_loss: 0.0473 - department_output_accuracy: 0.9509 - department_output_loss: 0.1889 - loss: 0.2362 - val_attrition_output_accuracy: 0.7745 - val_attrition_output_loss: 1.4365 - val_department_output_accuracy: 0.5897 - val_department_output_loss: 1.5013 - val_loss: 2.9953\n",
      "Epoch 75/100\n",
      "\u001b[1m35/35\u001b[0m \u001b[32m━━━━━━━━━━━━━━━━━━━━\u001b[0m\u001b[37m\u001b[0m \u001b[1m0s\u001b[0m 3ms/step - attrition_output_accuracy: 0.9860 - attrition_output_loss: 0.0487 - department_output_accuracy: 0.9459 - department_output_loss: 0.2058 - loss: 0.2545 - val_attrition_output_accuracy: 0.7418 - val_attrition_output_loss: 1.3513 - val_department_output_accuracy: 0.5897 - val_department_output_loss: 1.5142 - val_loss: 2.9246\n",
      "Epoch 76/100\n",
      "\u001b[1m35/35\u001b[0m \u001b[32m━━━━━━━━━━━━━━━━━━━━\u001b[0m\u001b[37m\u001b[0m \u001b[1m0s\u001b[0m 3ms/step - attrition_output_accuracy: 0.9869 - attrition_output_loss: 0.0470 - department_output_accuracy: 0.9473 - department_output_loss: 0.1885 - loss: 0.2356 - val_attrition_output_accuracy: 0.7582 - val_attrition_output_loss: 1.3944 - val_department_output_accuracy: 0.5842 - val_department_output_loss: 1.5267 - val_loss: 2.9779\n",
      "Epoch 77/100\n",
      "\u001b[1m35/35\u001b[0m \u001b[32m━━━━━━━━━━━━━━━━━━━━\u001b[0m\u001b[37m\u001b[0m \u001b[1m0s\u001b[0m 3ms/step - attrition_output_accuracy: 0.9879 - attrition_output_loss: 0.0518 - department_output_accuracy: 0.9432 - department_output_loss: 0.1955 - loss: 0.2473 - val_attrition_output_accuracy: 0.7745 - val_attrition_output_loss: 1.4901 - val_department_output_accuracy: 0.6005 - val_department_output_loss: 1.5348 - val_loss: 3.0848\n",
      "Epoch 78/100\n",
      "\u001b[1m35/35\u001b[0m \u001b[32m━━━━━━━━━━━━━━━━━━━━\u001b[0m\u001b[37m\u001b[0m \u001b[1m0s\u001b[0m 3ms/step - attrition_output_accuracy: 0.9895 - attrition_output_loss: 0.0415 - department_output_accuracy: 0.9556 - department_output_loss: 0.1748 - loss: 0.2163 - val_attrition_output_accuracy: 0.7663 - val_attrition_output_loss: 1.4213 - val_department_output_accuracy: 0.5978 - val_department_output_loss: 1.5972 - val_loss: 3.0783\n",
      "Epoch 79/100\n",
      "\u001b[1m35/35\u001b[0m \u001b[32m━━━━━━━━━━━━━━━━━━━━\u001b[0m\u001b[37m\u001b[0m \u001b[1m0s\u001b[0m 3ms/step - attrition_output_accuracy: 0.9879 - attrition_output_loss: 0.0445 - department_output_accuracy: 0.9478 - department_output_loss: 0.1915 - loss: 0.2360 - val_attrition_output_accuracy: 0.7717 - val_attrition_output_loss: 1.4370 - val_department_output_accuracy: 0.5870 - val_department_output_loss: 1.5763 - val_loss: 3.0785\n",
      "Epoch 80/100\n",
      "\u001b[1m35/35\u001b[0m \u001b[32m━━━━━━━━━━━━━━━━━━━━\u001b[0m\u001b[37m\u001b[0m \u001b[1m0s\u001b[0m 3ms/step - attrition_output_accuracy: 0.9897 - attrition_output_loss: 0.0458 - department_output_accuracy: 0.9484 - department_output_loss: 0.1885 - loss: 0.2344 - val_attrition_output_accuracy: 0.7690 - val_attrition_output_loss: 1.4900 - val_department_output_accuracy: 0.6033 - val_department_output_loss: 1.6002 - val_loss: 3.1491\n",
      "Epoch 81/100\n",
      "\u001b[1m35/35\u001b[0m \u001b[32m━━━━━━━━━━━━━━━━━━━━\u001b[0m\u001b[37m\u001b[0m \u001b[1m0s\u001b[0m 3ms/step - attrition_output_accuracy: 0.9891 - attrition_output_loss: 0.0509 - department_output_accuracy: 0.9558 - department_output_loss: 0.1861 - loss: 0.2370 - val_attrition_output_accuracy: 0.7609 - val_attrition_output_loss: 1.4680 - val_department_output_accuracy: 0.5924 - val_department_output_loss: 1.6042 - val_loss: 3.1302\n",
      "Epoch 82/100\n",
      "\u001b[1m35/35\u001b[0m \u001b[32m━━━━━━━━━━━━━━━━━━━━\u001b[0m\u001b[37m\u001b[0m \u001b[1m0s\u001b[0m 3ms/step - attrition_output_accuracy: 0.9910 - attrition_output_loss: 0.0439 - department_output_accuracy: 0.9470 - department_output_loss: 0.1990 - loss: 0.2429 - val_attrition_output_accuracy: 0.7717 - val_attrition_output_loss: 1.4770 - val_department_output_accuracy: 0.5924 - val_department_output_loss: 1.6144 - val_loss: 3.1607\n",
      "Epoch 83/100\n",
      "\u001b[1m35/35\u001b[0m \u001b[32m━━━━━━━━━━━━━━━━━━━━\u001b[0m\u001b[37m\u001b[0m \u001b[1m0s\u001b[0m 3ms/step - attrition_output_accuracy: 0.9868 - attrition_output_loss: 0.0470 - department_output_accuracy: 0.9524 - department_output_loss: 0.1803 - loss: 0.2271 - val_attrition_output_accuracy: 0.7908 - val_attrition_output_loss: 1.5775 - val_department_output_accuracy: 0.5788 - val_department_output_loss: 1.5979 - val_loss: 3.2399\n",
      "Epoch 84/100\n",
      "\u001b[1m35/35\u001b[0m \u001b[32m━━━━━━━━━━━━━━━━━━━━\u001b[0m\u001b[37m\u001b[0m \u001b[1m0s\u001b[0m 3ms/step - attrition_output_accuracy: 0.9846 - attrition_output_loss: 0.0457 - department_output_accuracy: 0.9509 - department_output_loss: 0.1760 - loss: 0.2217 - val_attrition_output_accuracy: 0.7500 - val_attrition_output_loss: 1.4978 - val_department_output_accuracy: 0.5870 - val_department_output_loss: 1.6337 - val_loss: 3.1935\n",
      "Epoch 85/100\n",
      "\u001b[1m35/35\u001b[0m \u001b[32m━━━━━━━━━━━━━━━━━━━━\u001b[0m\u001b[37m\u001b[0m \u001b[1m0s\u001b[0m 3ms/step - attrition_output_accuracy: 0.9844 - attrition_output_loss: 0.0471 - department_output_accuracy: 0.9573 - department_output_loss: 0.1781 - loss: 0.2251 - val_attrition_output_accuracy: 0.7609 - val_attrition_output_loss: 1.4850 - val_department_output_accuracy: 0.5788 - val_department_output_loss: 1.6289 - val_loss: 3.1718\n",
      "Epoch 86/100\n",
      "\u001b[1m35/35\u001b[0m \u001b[32m━━━━━━━━━━━━━━━━━━━━\u001b[0m\u001b[37m\u001b[0m \u001b[1m0s\u001b[0m 3ms/step - attrition_output_accuracy: 0.9890 - attrition_output_loss: 0.0445 - department_output_accuracy: 0.9424 - department_output_loss: 0.1929 - loss: 0.2375 - val_attrition_output_accuracy: 0.7473 - val_attrition_output_loss: 1.5525 - val_department_output_accuracy: 0.6087 - val_department_output_loss: 1.6331 - val_loss: 3.2468\n",
      "Epoch 87/100\n",
      "\u001b[1m35/35\u001b[0m \u001b[32m━━━━━━━━━━━━━━━━━━━━\u001b[0m\u001b[37m\u001b[0m \u001b[1m0s\u001b[0m 3ms/step - attrition_output_accuracy: 0.9947 - attrition_output_loss: 0.0360 - department_output_accuracy: 0.9479 - department_output_loss: 0.1731 - loss: 0.2090 - val_attrition_output_accuracy: 0.7799 - val_attrition_output_loss: 1.5769 - val_department_output_accuracy: 0.5815 - val_department_output_loss: 1.6791 - val_loss: 3.3180\n",
      "Epoch 88/100\n",
      "\u001b[1m35/35\u001b[0m \u001b[32m━━━━━━━━━━━━━━━━━━━━\u001b[0m\u001b[37m\u001b[0m \u001b[1m0s\u001b[0m 3ms/step - attrition_output_accuracy: 0.9908 - attrition_output_loss: 0.0415 - department_output_accuracy: 0.9564 - department_output_loss: 0.1725 - loss: 0.2140 - val_attrition_output_accuracy: 0.7582 - val_attrition_output_loss: 1.5092 - val_department_output_accuracy: 0.5978 - val_department_output_loss: 1.6676 - val_loss: 3.2464\n",
      "Epoch 89/100\n",
      "\u001b[1m35/35\u001b[0m \u001b[32m━━━━━━━━━━━━━━━━━━━━\u001b[0m\u001b[37m\u001b[0m \u001b[1m0s\u001b[0m 3ms/step - attrition_output_accuracy: 0.9920 - attrition_output_loss: 0.0373 - department_output_accuracy: 0.9481 - department_output_loss: 0.1818 - loss: 0.2191 - val_attrition_output_accuracy: 0.7717 - val_attrition_output_loss: 1.6058 - val_department_output_accuracy: 0.5815 - val_department_output_loss: 1.7230 - val_loss: 3.3928\n",
      "Epoch 90/100\n",
      "\u001b[1m35/35\u001b[0m \u001b[32m━━━━━━━━━━━━━━━━━━━━\u001b[0m\u001b[37m\u001b[0m \u001b[1m0s\u001b[0m 3ms/step - attrition_output_accuracy: 0.9879 - attrition_output_loss: 0.0446 - department_output_accuracy: 0.9546 - department_output_loss: 0.1946 - loss: 0.2392 - val_attrition_output_accuracy: 0.7690 - val_attrition_output_loss: 1.5773 - val_department_output_accuracy: 0.5842 - val_department_output_loss: 1.6994 - val_loss: 3.3412\n",
      "Epoch 91/100\n",
      "\u001b[1m35/35\u001b[0m \u001b[32m━━━━━━━━━━━━━━━━━━━━\u001b[0m\u001b[37m\u001b[0m \u001b[1m0s\u001b[0m 3ms/step - attrition_output_accuracy: 0.9950 - attrition_output_loss: 0.0375 - department_output_accuracy: 0.9644 - department_output_loss: 0.1565 - loss: 0.1939 - val_attrition_output_accuracy: 0.7636 - val_attrition_output_loss: 1.6218 - val_department_output_accuracy: 0.5897 - val_department_output_loss: 1.6998 - val_loss: 3.3828\n",
      "Epoch 92/100\n",
      "\u001b[1m35/35\u001b[0m \u001b[32m━━━━━━━━━━━━━━━━━━━━\u001b[0m\u001b[37m\u001b[0m \u001b[1m0s\u001b[0m 3ms/step - attrition_output_accuracy: 0.9820 - attrition_output_loss: 0.0468 - department_output_accuracy: 0.9696 - department_output_loss: 0.1540 - loss: 0.2008 - val_attrition_output_accuracy: 0.7582 - val_attrition_output_loss: 1.5883 - val_department_output_accuracy: 0.5788 - val_department_output_loss: 1.7251 - val_loss: 3.3750\n",
      "Epoch 93/100\n",
      "\u001b[1m35/35\u001b[0m \u001b[32m━━━━━━━━━━━━━━━━━━━━\u001b[0m\u001b[37m\u001b[0m \u001b[1m0s\u001b[0m 3ms/step - attrition_output_accuracy: 0.9951 - attrition_output_loss: 0.0352 - department_output_accuracy: 0.9640 - department_output_loss: 0.1677 - loss: 0.2030 - val_attrition_output_accuracy: 0.7500 - val_attrition_output_loss: 1.5775 - val_department_output_accuracy: 0.5734 - val_department_output_loss: 1.7373 - val_loss: 3.3779\n",
      "Epoch 94/100\n",
      "\u001b[1m35/35\u001b[0m \u001b[32m━━━━━━━━━━━━━━━━━━━━\u001b[0m\u001b[37m\u001b[0m \u001b[1m0s\u001b[0m 3ms/step - attrition_output_accuracy: 0.9935 - attrition_output_loss: 0.0371 - department_output_accuracy: 0.9661 - department_output_loss: 0.1512 - loss: 0.1884 - val_attrition_output_accuracy: 0.7554 - val_attrition_output_loss: 1.6050 - val_department_output_accuracy: 0.5679 - val_department_output_loss: 1.7474 - val_loss: 3.4174\n",
      "Epoch 95/100\n",
      "\u001b[1m35/35\u001b[0m \u001b[32m━━━━━━━━━━━━━━━━━━━━\u001b[0m\u001b[37m\u001b[0m \u001b[1m0s\u001b[0m 3ms/step - attrition_output_accuracy: 0.9885 - attrition_output_loss: 0.0417 - department_output_accuracy: 0.9607 - department_output_loss: 0.1583 - loss: 0.1999 - val_attrition_output_accuracy: 0.7717 - val_attrition_output_loss: 1.6319 - val_department_output_accuracy: 0.5897 - val_department_output_loss: 1.7743 - val_loss: 3.4719\n",
      "Epoch 96/100\n",
      "\u001b[1m35/35\u001b[0m \u001b[32m━━━━━━━━━━━━━━━━━━━━\u001b[0m\u001b[37m\u001b[0m \u001b[1m0s\u001b[0m 3ms/step - attrition_output_accuracy: 0.9954 - attrition_output_loss: 0.0304 - department_output_accuracy: 0.9691 - department_output_loss: 0.1574 - loss: 0.1876 - val_attrition_output_accuracy: 0.7582 - val_attrition_output_loss: 1.6463 - val_department_output_accuracy: 0.5951 - val_department_output_loss: 1.7819 - val_loss: 3.4967\n",
      "Epoch 97/100\n",
      "\u001b[1m35/35\u001b[0m \u001b[32m━━━━━━━━━━━━━━━━━━━━\u001b[0m\u001b[37m\u001b[0m \u001b[1m0s\u001b[0m 3ms/step - attrition_output_accuracy: 0.9969 - attrition_output_loss: 0.0324 - department_output_accuracy: 0.9547 - department_output_loss: 0.1583 - loss: 0.1906 - val_attrition_output_accuracy: 0.7826 - val_attrition_output_loss: 1.7297 - val_department_output_accuracy: 0.5788 - val_department_output_loss: 1.7543 - val_loss: 3.5527\n",
      "Epoch 98/100\n",
      "\u001b[1m35/35\u001b[0m \u001b[32m━━━━━━━━━━━━━━━━━━━━\u001b[0m\u001b[37m\u001b[0m \u001b[1m0s\u001b[0m 3ms/step - attrition_output_accuracy: 0.9879 - attrition_output_loss: 0.0354 - department_output_accuracy: 0.9542 - department_output_loss: 0.1659 - loss: 0.2013 - val_attrition_output_accuracy: 0.7391 - val_attrition_output_loss: 1.6380 - val_department_output_accuracy: 0.5707 - val_department_output_loss: 1.7926 - val_loss: 3.4920\n",
      "Epoch 99/100\n",
      "\u001b[1m35/35\u001b[0m \u001b[32m━━━━━━━━━━━━━━━━━━━━\u001b[0m\u001b[37m\u001b[0m \u001b[1m0s\u001b[0m 3ms/step - attrition_output_accuracy: 0.9928 - attrition_output_loss: 0.0372 - department_output_accuracy: 0.9646 - department_output_loss: 0.1681 - loss: 0.2053 - val_attrition_output_accuracy: 0.7609 - val_attrition_output_loss: 1.7172 - val_department_output_accuracy: 0.5842 - val_department_output_loss: 1.7946 - val_loss: 3.5760\n",
      "Epoch 100/100\n",
      "\u001b[1m35/35\u001b[0m \u001b[32m━━━━━━━━━━━━━━━━━━━━\u001b[0m\u001b[37m\u001b[0m \u001b[1m0s\u001b[0m 3ms/step - attrition_output_accuracy: 0.9917 - attrition_output_loss: 0.0293 - department_output_accuracy: 0.9641 - department_output_loss: 0.1476 - loss: 0.1769 - val_attrition_output_accuracy: 0.7636 - val_attrition_output_loss: 1.7393 - val_department_output_accuracy: 0.5870 - val_department_output_loss: 1.8291 - val_loss: 3.6310\n"
     ]
    }
   ],
   "source": [
    "# Train the model\n",
    "history = model.fit(\n",
    "    X_train_scaled, {'department_output': y_train_department, 'attrition_output': y_train_attrition},\n",
    "    validation_data=(X_test_scaled, {'department_output': y_test_department, 'attrition_output': y_test_attrition}),\n",
    "    epochs=100,\n",
    "    batch_size=32\n",
    ")\n"
   ]
  },
  {
   "cell_type": "code",
   "execution_count": 40,
   "metadata": {
    "colab": {
     "base_uri": "https://localhost:8080/"
    },
    "executionInfo": {
     "elapsed": 379,
     "status": "ok",
     "timestamp": 1730699259894,
     "user": {
      "displayName": "Alexander Booth",
      "userId": "02269714993535573104"
     },
     "user_tz": 360
    },
    "id": "VsMoaQlgGc3U",
    "outputId": "636c85ba-ee63-4087-b7d1-00b408f1055a"
   },
   "outputs": [
    {
     "name": "stdout",
     "output_type": "stream",
     "text": [
      "\u001b[1m12/12\u001b[0m \u001b[32m━━━━━━━━━━━━━━━━━━━━\u001b[0m\u001b[37m\u001b[0m \u001b[1m0s\u001b[0m 3ms/step - attrition_output_accuracy: 0.7860 - attrition_output_loss: 1.6630 - department_output_accuracy: 0.5660 - department_output_loss: 1.9130 - loss: 3.5856 \n"
     ]
    }
   ],
   "source": [
    "# Evaluate the model with the testing data\n",
    "eval_results = model.evaluate(X_test_scaled, {'department_output': y_test_department, 'attrition_output': y_test_attrition})"
   ]
  },
  {
   "cell_type": "code",
   "execution_count": 41,
   "metadata": {
    "colab": {
     "base_uri": "https://localhost:8080/"
    },
    "executionInfo": {
     "elapsed": 113,
     "status": "ok",
     "timestamp": 1730699260004,
     "user": {
      "displayName": "Alexander Booth",
      "userId": "02269714993535573104"
     },
     "user_tz": 360
    },
    "id": "ZlCtlHi0Vt54",
    "outputId": "3a32435c-11cf-48da-81b5-1431d6c00da2"
   },
   "outputs": [
    {
     "name": "stdout",
     "output_type": "stream",
     "text": [
      "Department Accuracy: 0.7636\n",
      "Attrition Accuracy: 0.5870\n"
     ]
    }
   ],
   "source": [
    "# Print the accuracy for both department and attrition\n",
    "print(f\"Department Accuracy: {eval_results[3]:.4f}\")\n",
    "print(f\"Attrition Accuracy: {eval_results[4]:.4f}\")"
   ]
  },
  {
   "cell_type": "markdown",
   "metadata": {
    "id": "eGSyfsZfWOQM"
   },
   "source": [
    "# Summary\n",
    "\n",
    "In the provided space below, briefly answer the following questions.\n",
    "\n",
    "1. Is accuracy the best metric to use on this data? Why or why not?\n",
    "\n",
    "2. What activation functions did you choose for your output layers, and why?\n",
    "\n",
    "3. Can you name a few ways that this model might be improved?"
   ]
  },
  {
   "cell_type": "markdown",
   "metadata": {
    "id": "pi9SLpFnWvbF"
   },
   "source": [
    "YOUR ANSWERS HERE\n",
    "\n",
    "1. For a balanced dataset, accuracy is the most useful, but when imbalanced, other metrics such as precision and recall could be more useful.\n",
    "2. I chose Softmax both department and attrition were categorical variables with multiple possible values.\n",
    "3.  \n",
    "- Adding additional features instead of just 10.\n",
    "- Use dropout layers to prevent overfitting"
   ]
  },
  {
   "cell_type": "code",
   "execution_count": 17,
   "metadata": {
    "executionInfo": {
     "elapsed": 3,
     "status": "ok",
     "timestamp": 1730699260004,
     "user": {
      "displayName": "Alexander Booth",
      "userId": "02269714993535573104"
     },
     "user_tz": 360
    },
    "id": "ZuQWjGgGXZ3C"
   },
   "outputs": [],
   "source": []
  }
 ],
 "metadata": {
  "colab": {
   "provenance": []
  },
  "kernelspec": {
   "display_name": "base",
   "language": "python",
   "name": "python3"
  },
  "language_info": {
   "codemirror_mode": {
    "name": "ipython",
    "version": 3
   },
   "file_extension": ".py",
   "mimetype": "text/x-python",
   "name": "python",
   "nbconvert_exporter": "python",
   "pygments_lexer": "ipython3",
   "version": "3.12.7"
  }
 },
 "nbformat": 4,
 "nbformat_minor": 0
}
